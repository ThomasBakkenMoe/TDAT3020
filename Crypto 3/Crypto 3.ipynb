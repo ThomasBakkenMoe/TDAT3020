{
 "cells": [
  {
   "cell_type": "markdown",
   "metadata": {},
   "source": [
    "# Krypto 3"
   ]
  },
  {
   "cell_type": "markdown",
   "metadata": {},
   "source": [
    "### Oppgave 1\n"
   ]
  },
  {
   "cell_type": "markdown",
   "metadata": {},
   "source": [
    "*NB! Alle tallene er skrevet i base 10, ikke binært .... og 10 her er heller ikke\n",
    "skrevet binært!!! La meg ikke måtte si det 10 ganger da...* **<-- Denne fikk en god latter fra meg x)**"
   ]
  },
  {
   "cell_type": "markdown",
   "metadata": {},
   "source": [
    "### Oppgave 2"
   ]
  },
  {
   "cell_type": "markdown",
   "metadata": {},
   "source": [
    "Sett opp et RSA-kryptosystem med følgende parametre:\n",
    "\n",
    "* p og q skal ha minst 8 bits hver.\n",
    "* e skal være liten, men større enn 3"
   ]
  },
  {
   "cell_type": "markdown",
   "metadata": {},
   "source": [
    "**a)** Skriv ut (hele) offentlig nøkkel"
   ]
  },
  {
   "cell_type": "code",
   "execution_count": 16,
   "metadata": {},
   "outputs": [
    {
     "name": "stdout",
     "output_type": "stream",
     "text": [
      "7840\n",
      "Public key:\n",
      "(8023, 11)\n"
     ]
    }
   ],
   "source": [
    "# RSA\n",
    "\n",
    "p = 71\n",
    "q = 113\n",
    "\n",
    "n = p * q\n",
    "\n",
    "ø = (p - 1)*(q - 1)\n",
    "print(ø)\n",
    "\n",
    "e = 11\n",
    "\n",
    "public_key = (n, e)\n",
    "print(\"Public key:\")\n",
    "print(public_key)"
   ]
  },
  {
   "cell_type": "markdown",
   "metadata": {},
   "source": [
    "**b)** Finn ved Euklids algoritme d og skriv ut (hele) private nøkkel"
   ]
  },
  {
   "cell_type": "code",
   "execution_count": 18,
   "metadata": {},
   "outputs": [
    {
     "name": "stdout",
     "output_type": "stream",
     "text": [
      "d found!\n",
      "2851\n",
      "Private key:\n",
      "(71, 113, 2851)\n"
     ]
    }
   ],
   "source": [
    "import numpy as np\n",
    "\n",
    "d = np.gcd(e, ø)\n",
    "\n",
    "# finding d\n",
    "\n",
    "d = 1\n",
    "\n",
    "while ((d * e) % ø != 1):\n",
    "    d = d+1\n",
    "\n",
    "print(\"d found!\")\n",
    "print(d)\n",
    "\n",
    "private_key = (p, q, d)\n",
    "print(\"Private key:\")\n",
    "print(private_key)"
   ]
  },
  {
   "cell_type": "markdown",
   "metadata": {},
   "source": [
    "**c)** Krypter 42 og dekrypter igjen. Bruk kvadrer-og-multipliser-algoritmen\n",
    "for å regne ut potenser"
   ]
  },
  {
   "cell_type": "code",
   "execution_count": 19,
   "metadata": {},
   "outputs": [
    {
     "name": "stdout",
     "output_type": "stream",
     "text": [
      "2300\n"
     ]
    }
   ],
   "source": [
    "def encrypt_RSA(clear, public_key):\n",
    "    \n",
    "    return (clear ** public_key[1]) % public_key[0]\n",
    "    \n",
    "print(encrypt_RSA(42, public_key))"
   ]
  },
  {
   "cell_type": "code",
   "execution_count": 20,
   "metadata": {},
   "outputs": [
    {
     "name": "stdout",
     "output_type": "stream",
     "text": [
      "42\n"
     ]
    }
   ],
   "source": [
    "def decrypt_RSA(encrypted, public_key, private_key):\n",
    "    \n",
    "    return (encrypted ** private_key[2]) % public_key[0]\n",
    "\n",
    "print(decrypt_RSA(2300, public_key, private_key))"
   ]
  },
  {
   "cell_type": "markdown",
   "metadata": {},
   "source": [
    "### Oppgave 3"
   ]
  },
  {
   "cell_type": "markdown",
   "metadata": {},
   "source": [
    "**a)** La n = 1829 og B = 5. Kan du finne en primtallsfaktor i n ved Pollard\n",
    "p − 1?"
   ]
  },
  {
   "cell_type": "code",
   "execution_count": 27,
   "metadata": {},
   "outputs": [],
   "source": [
    "def pollardMinusOne(n, B):\n",
    "    a = 2\n",
    "    d = 0\n",
    "    for i in range(2, B):\n",
    "        a = (a ** i) % n\n",
    "        d = np.gcd((a-1), n)\n",
    "        \n",
    "        if(d > 1 and d < n):\n",
    "            return d\n",
    "    \n",
    "    return None"
   ]
  },
  {
   "cell_type": "code",
   "execution_count": 31,
   "metadata": {},
   "outputs": [
    {
     "name": "stdout",
     "output_type": "stream",
     "text": [
      "Fant ikke primtallsfaktor, prøv en større B\n"
     ]
    }
   ],
   "source": [
    "result = pollardMinusOne(1829, 5)\n",
    "\n",
    "if (result is not None):\n",
    "    print(result)\n",
    "else:\n",
    "    print(\"Fant ikke primtallsfaktor, prøv en større B\")"
   ]
  },
  {
   "cell_type": "markdown",
   "metadata": {},
   "source": [
    "**b)** La n_1 = 18779 og n_2 = 42583. Ved bruk av Pollard p − 1, finn B’er\n",
    "som er garantert å fungere for hver av disse, uten å utføre testen. (Vi\n",
    "må her bruke kjennskap til faktoriseringene av n1 og n2.)\n"
   ]
  },
  {
   "cell_type": "code",
   "execution_count": null,
   "metadata": {},
   "outputs": [],
   "source": [
    "# TODO"
   ]
  },
  {
   "cell_type": "markdown",
   "metadata": {},
   "source": [
    "**c)** La n = 6319. Forsøk å finne en faktor i dette tallet ved Pollard p − 1.\n",
    "Prøv deg frem med B."
   ]
  },
  {
   "cell_type": "code",
   "execution_count": 32,
   "metadata": {},
   "outputs": [
    {
     "name": "stdout",
     "output_type": "stream",
     "text": [
      "31\n"
     ]
    }
   ],
   "source": [
    "n = 2\n",
    "\n",
    "while(True):\n",
    "    result = pollardMinusOne(1829, n)\n",
    "\n",
    "    if (result is not None):\n",
    "        print(result)\n",
    "        break\n",
    "    else:\n",
    "        n = n + 1"
   ]
  },
  {
   "cell_type": "code",
   "execution_count": null,
   "metadata": {},
   "outputs": [],
   "source": []
  }
 ],
 "metadata": {
  "kernelspec": {
   "display_name": "Python 3",
   "language": "python",
   "name": "python3"
  },
  "language_info": {
   "codemirror_mode": {
    "name": "ipython",
    "version": 3
   },
   "file_extension": ".py",
   "mimetype": "text/x-python",
   "name": "python",
   "nbconvert_exporter": "python",
   "pygments_lexer": "ipython3",
   "version": "3.7.4"
  }
 },
 "nbformat": 4,
 "nbformat_minor": 4
}
