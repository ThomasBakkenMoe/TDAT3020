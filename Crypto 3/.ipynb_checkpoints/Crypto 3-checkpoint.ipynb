{
 "cells": [
  {
   "cell_type": "markdown",
   "metadata": {},
   "source": [
    "# Krypto 3"
   ]
  },
  {
   "cell_type": "markdown",
   "metadata": {},
   "source": [
    "### Oppgave 1\n"
   ]
  },
  {
   "cell_type": "markdown",
   "metadata": {},
   "source": [
    "*NB! Alle tallene er skrevet i base 10, ikke binært .... og 10 her er heller ikke\n",
    "skrevet binært!!! La meg ikke måtte si det 10 ganger da...* **<-- Denne fikk en god latter fra meg x)**"
   ]
  },
  {
   "cell_type": "markdown",
   "metadata": {},
   "source": [
    "### Oppgave 2"
   ]
  },
  {
   "cell_type": "markdown",
   "metadata": {},
   "source": [
    "Sett opp et RSA-kryptosystem med følgende parametre:\n",
    "\n",
    "* p og q skal ha minst 8 bits hver.\n",
    "* e skal være liten, men større enn 3"
   ]
  },
  {
   "cell_type": "markdown",
   "metadata": {},
   "source": [
    "**a)** Skriv ut (hele) offentlig nøkkel"
   ]
  },
  {
   "cell_type": "code",
   "execution_count": 10,
   "metadata": {},
   "outputs": [
    {
     "name": "stdout",
     "output_type": "stream",
     "text": [
      "7840\n",
      "Public key:\n",
      "(8023, 11)\n"
     ]
    }
   ],
   "source": [
    "# RSA\n",
    "\n",
    "p = 71\n",
    "q = 113\n",
    "\n",
    "n = p * q\n",
    "\n",
    "ø = (p - 1)*(q - 1)\n",
    "print(ø)\n",
    "\n",
    "e = 11\n",
    "\n",
    "public_key = (n, e)\n",
    "print(\"Public key:\")\n",
    "print(public_key)"
   ]
  },
  {
   "cell_type": "markdown",
   "metadata": {},
   "source": [
    "**b)** Finn ved Euklids algoritme d og skriv ut (hele) private nøkkel"
   ]
  },
  {
   "cell_type": "code",
   "execution_count": 11,
   "metadata": {},
   "outputs": [
    {
     "name": "stdout",
     "output_type": "stream",
     "text": [
      "d found!\n",
      "2851\n",
      "Private key:\n",
      "(71, 113, 2851)\n"
     ]
    }
   ],
   "source": [
    "import numpy as np\n",
    "\n",
    "d = np.gcd(e, ø)\n",
    "\n",
    "# finding d\n",
    "\n",
    "d = 1\n",
    "\n",
    "while ((d * e) % ø != 1):\n",
    "    d = d+1\n",
    "\n",
    "print(\"d found!\")\n",
    "print(d)\n",
    "\n",
    "private_key = (p, q, d)\n",
    "print(\"Private key:\")\n",
    "print(private_key)"
   ]
  },
  {
   "cell_type": "markdown",
   "metadata": {},
   "source": [
    "**c)** Krypter 42 og dekrypter igjen. Bruk kvadrer-og-multipliser-algoritmen\n",
    "for å regne ut potenser"
   ]
  },
  {
   "cell_type": "code",
   "execution_count": 12,
   "metadata": {},
   "outputs": [
    {
     "name": "stdout",
     "output_type": "stream",
     "text": [
      "2300\n"
     ]
    }
   ],
   "source": [
    "def encrypt_RSA(clear, public_key):\n",
    "    \n",
    "    return (clear ** public_key[1]) % public_key[0]\n",
    "    \n",
    "print(encrypt_RSA(42, public_key))"
   ]
  },
  {
   "cell_type": "code",
   "execution_count": 13,
   "metadata": {},
   "outputs": [
    {
     "name": "stdout",
     "output_type": "stream",
     "text": [
      "42\n"
     ]
    }
   ],
   "source": [
    "def decrypt_RSA(encrypted, public_key, private_key):\n",
    "    \n",
    "    return (encrypted ** private_key[2]) % public_key[0]\n",
    "\n",
    "print(decrypt_RSA(2300, public_key, private_key))"
   ]
  },
  {
   "cell_type": "markdown",
   "metadata": {},
   "source": [
    "### Oppgave 3"
   ]
  },
  {
   "cell_type": "markdown",
   "metadata": {},
   "source": [
    "**a)** La n = 1829 og B = 5. Kan du finne en primtallsfaktor i n ved Pollard\n",
    "p − 1?"
   ]
  },
  {
   "cell_type": "code",
   "execution_count": 14,
   "metadata": {},
   "outputs": [],
   "source": [
    "def pollardMinusOne(n, B):\n",
    "    a = 2\n",
    "    d = 0\n",
    "    for i in range(2, B):\n",
    "        a = (a ** i) % n\n",
    "        d = np.gcd((a-1), n)\n",
    "        \n",
    "        if(d > 1 and d < n):\n",
    "            return d\n",
    "    \n",
    "    return None"
   ]
  },
  {
   "cell_type": "code",
   "execution_count": 15,
   "metadata": {},
   "outputs": [
    {
     "name": "stdout",
     "output_type": "stream",
     "text": [
      "Fant ikke primtallsfaktor, prøv en større B\n"
     ]
    }
   ],
   "source": [
    "result = pollardMinusOne(1829, 5)\n",
    "\n",
    "if (result is not None):\n",
    "    print(result)\n",
    "else:\n",
    "    print(\"Fant ikke primtallsfaktor, prøv en større B\")"
   ]
  },
  {
   "cell_type": "markdown",
   "metadata": {},
   "source": [
    "**b)** La n_1 = 18779 og n_2 = 42583. Ved bruk av Pollard p − 1, finn B’er\n",
    "som er garantert å fungere for hver av disse, uten å utføre testen. (Vi\n",
    "må her bruke kjennskap til faktoriseringene av n1 og n2.)\n"
   ]
  },
  {
   "cell_type": "code",
   "execution_count": 16,
   "metadata": {},
   "outputs": [],
   "source": [
    "import subprocess as sp\n",
    "\n",
    "def factors(x):\n",
    "    temp = str(sp.run([\"factor\", str(x)], capture_output=True).stdout.strip()).split(' ')[1:]\n",
    "    for ix, s in enumerate(temp):\n",
    "        temp[ix] = int(s.replace('\\'', ''))\n",
    "    return temp\n",
    "\n",
    "def largestQ(l=[]):\n",
    "    largest = 0\n",
    "    s = set(sorted(l))\n",
    "    for i in s:\n",
    "        t = i ** l.count(i)\n",
    "        largest = max(t, largest)\n",
    "    return largest"
   ]
  },
  {
   "cell_type": "code",
   "execution_count": 19,
   "metadata": {},
   "outputs": [
    {
     "name": "stdout",
     "output_type": "stream",
     "text": [
      "n_1\n",
      "n = 18779 B = 7\n",
      "n_2\n",
      "n = 42583 B = 32\n"
     ]
    }
   ],
   "source": [
    "n_1 = 18779\n",
    "n_2 = 42583\n",
    "\n",
    "n_1_factors = factors(n_1)\n",
    "n_2_factors = factors(n_2)\n",
    "\n",
    "Q = []\n",
    "for n in n_1_factors:\n",
    "    nf = factors(n - 1)\n",
    "    Q.append(largestQ(nf))\n",
    "Q = min(*Q)\n",
    "\n",
    "print(\"n_1\")\n",
    "print('n = %i' % n_1, 'B = %i' % Q)\n",
    "\n",
    "Q = []\n",
    "for n in n_2_factors:\n",
    "    nf = factors(n - 1)\n",
    "    Q.append(largestQ(nf))\n",
    "Q = min(*Q)\n",
    "\n",
    "print(\"n_2\")\n",
    "print('n = %i' % n_2, 'B = %i' % Q)"
   ]
  },
  {
   "cell_type": "markdown",
   "metadata": {},
   "source": [
    "**c)** La n = 6319. Forsøk å finne en faktor i dette tallet ved Pollard p − 1.\n",
    "Prøv deg frem med B."
   ]
  },
  {
   "cell_type": "code",
   "execution_count": 18,
   "metadata": {},
   "outputs": [
    {
     "name": "stdout",
     "output_type": "stream",
     "text": [
      "31\n"
     ]
    }
   ],
   "source": [
    "n = 2\n",
    "\n",
    "while(True):\n",
    "    result = pollardMinusOne(1829, n)\n",
    "\n",
    "    if (result is not None):\n",
    "        print(result)\n",
    "        break\n",
    "    else:\n",
    "        n = n + 1"
   ]
  },
  {
   "cell_type": "markdown",
   "metadata": {},
   "source": [
    "### Oppgave 4"
   ]
  },
  {
   "cell_type": "markdown",
   "metadata": {},
   "source": [
    "Finn en faktor i tallene under med f(x) = x^2 + 1 og startverdi x_1 = 1 i Pollard rho. Hvor mange iterasjoner trenger du?"
   ]
  },
  {
   "cell_type": "markdown",
   "metadata": {},
   "source": [
    "**a)** 851"
   ]
  },
  {
   "cell_type": "code",
   "execution_count": 23,
   "metadata": {},
   "outputs": [],
   "source": [
    "def pollards_rho(n):\n",
    "    x = 1; y = x; d = 1\n",
    "    \n",
    "    i = 0\n",
    "    \n",
    "    f = lambda x: (x**2 + 1) % n\n",
    "    \n",
    "    \n",
    "    while d == 1:\n",
    "        \n",
    "        x = f(x); y = f(f(y))\n",
    "        \n",
    "        d = np.gcd(abs(x-y), n)\n",
    "        \n",
    "        i = i + 1\n",
    "        \n",
    "    if d != n:\n",
    "        return (d, i)"
   ]
  },
  {
   "cell_type": "code",
   "execution_count": 26,
   "metadata": {},
   "outputs": [
    {
     "name": "stdout",
     "output_type": "stream",
     "text": [
      "Itterasjoner for n = 851\n",
      "4\n",
      "Primtallsfaktor:\n",
      "37\n"
     ]
    }
   ],
   "source": [
    "result = pollards_rho(851)\n",
    "print(\"Itterasjoner for n = 851\")\n",
    "print(result[1])\n",
    "print(\"Primtallsfaktor:\")\n",
    "print(result[0])"
   ]
  },
  {
   "cell_type": "markdown",
   "metadata": {},
   "source": [
    "**b)** 1517"
   ]
  },
  {
   "cell_type": "code",
   "execution_count": 27,
   "metadata": {},
   "outputs": [
    {
     "name": "stdout",
     "output_type": "stream",
     "text": [
      "Itterasjoner for n = 1517\n",
      "4\n",
      "Primtallsfaktor:\n",
      "37\n"
     ]
    }
   ],
   "source": [
    "result = pollards_rho(1517)\n",
    "print(\"Itterasjoner for n = 1517\")\n",
    "print(result[1])\n",
    "print(\"Primtallsfaktor:\")\n",
    "print(result[0])"
   ]
  },
  {
   "cell_type": "markdown",
   "metadata": {},
   "source": [
    "**c)** 31861"
   ]
  },
  {
   "cell_type": "code",
   "execution_count": 28,
   "metadata": {},
   "outputs": [
    {
     "name": "stdout",
     "output_type": "stream",
     "text": [
      "Itterasjoner for n = 31861:\n",
      "5\n",
      "Primtallsfaktor:\n",
      "151\n"
     ]
    }
   ],
   "source": [
    "result = pollards_rho(31861)\n",
    "print(\"Itterasjoner for n = 31861:\")\n",
    "print(result[1])\n",
    "print(\"Primtallsfaktor:\")\n",
    "print(result[0])"
   ]
  },
  {
   "cell_type": "markdown",
   "metadata": {},
   "source": [
    "### Oppgave 5"
   ]
  },
  {
   "cell_type": "markdown",
   "metadata": {},
   "source": [
    "**a)** Vis følgende multiplikative egenskap til RSA:\n",
    "\n",
    "\\begin{align}\n",
    "e_K(x_1)e_K(x_2)\\ mod\\ n = e_K(x_1x_2)\\ mod\\ n\n",
    "\\end{align}"
   ]
  },
  {
   "cell_type": "markdown",
   "metadata": {},
   "source": [
    "Noen regler:\n",
    "\n",
    "\\begin{align}\n",
    "e_K(x) = x^e\\ mod\\ n \\\\\n",
    "(a\\ mod\\ n)(b\\ mod\\ n) = ab\\ mod\\ n \\\\\n",
    "a^i b^i = (ab)^i\n",
    "\\end{align}"
   ]
  },
  {
   "cell_type": "markdown",
   "metadata": {},
   "source": [
    "Ved å bruke disse, kan vi gjøre:\n",
    "    \n",
    "\\begin{align}\n",
    "e_K(x_1)e_K(x_2)\\ mod\\ n = (x_1)^e (x_2)^e\\ mod\\ n \\\\\n",
    "= (x_1 x_2)^e\\ mod\\ n \\\\\n",
    "= e_K(x_1 x_2)\\ mod\\ n\n",
    "\\end{align}"
   ]
  },
  {
   "cell_type": "markdown",
   "metadata": {},
   "source": [
    "**b)** Vis hvordan RSA er usikker motvalgt chiffertekst-angrep: Gitt en chiffertekst y, beskriv hvordan en angriper kan velge chiffertekst y\\` =/= y, slik at kjennskap til klarteksten x\\` = d_K(y\\`) lar ham beregne x = d_K(y)"
   ]
  },
  {
   "cell_type": "markdown",
   "metadata": {},
   "source": [
    "Vi har en chiffertekst *y*\n",
    "\n",
    "\\begin{align}\n",
    "y = x^e\\ mod\\ n\\\\\n",
    "y' = 2^e mod\\ n\\\\\n",
    "\\end{align}\n",
    "\n",
    "Send en spesifikk melding *y''* til offeret.\n",
    "\n",
    "\\begin{align}\n",
    "y'' = y' * y = y * 2^e = x^e * 2^e\\ mod\\ n \\\\\n",
    "\\end{align}\n",
    "\n",
    "Om vi nå dekrypterer *y''*:\n",
    "\n",
    "\\begin{align}\n",
    "(y'')^d = (x^e 2^e)^d\\ mod\\ n \\\\\n",
    "= x * 2\\ mod\\ n\n",
    "\\end{align}\n",
    "\n",
    "Alt vi trenger å gjøre for å finn x er å dele på 2."
   ]
  },
  {
   "cell_type": "markdown",
   "metadata": {},
   "source": [
    "### Oppgave 6"
   ]
  },
  {
   "cell_type": "markdown",
   "metadata": {},
   "source": [
    "**a)** Forklar hvorfor vi kan skrive *q−p = 2d*, hvor *d* er et heltall (dvs. at *q−p* er et partall. Det er ikke noe spesielt med *d*.)"
   ]
  },
  {
   "cell_type": "markdown",
   "metadata": {},
   "source": [
    "*(q - p)* er et partall. *d* i dette tilfellet er et oddetall pga. egenskapen oddetall har: et oddetall * 2 vil alltid være ett partall. "
   ]
  },
  {
   "cell_type": "markdown",
   "metadata": {},
   "source": [
    "**b)** Vis at *n+d^2* er et kvadrattall"
   ]
  },
  {
   "cell_type": "markdown",
   "metadata": {},
   "source": [
    "Vi vet at (*k^2* er kvadrattall):\n",
    "\n",
    "\\begin{align}\n",
    "n = p * q \\\\\n",
    "q-p = 2d => d = (q-p)/2\n",
    "k^2 = k * k\n",
    "\\end{align}\n",
    "\n",
    "Dermed:\n",
    "\n",
    "\\begin{align}\n",
    "n + d^2 = pq + ((q - p) / 2)^2 \\\\\n",
    "= pq + (p^2 - 2pq + q^2)/4 \\\\\n",
    "= (4pq)/4 + (p^2 - 2pq + q^2)/4 \\\\\n",
    "= (p^2 + 2pq + q^2)/4 \\\\\n",
    "= ((p + q) / 2)^2 \\\\\n",
    "= k^2 =>\\\\\n",
    "k = (p+q) / 2\\ \\square\n",
    "\\end{align}"
   ]
  },
  {
   "cell_type": "markdown",
   "metadata": {},
   "source": [
    "**c)** Vis hvordan vi kan faktorisere *n* hvis *n+d^2* er et kvadrattall. Vi antar her at at *d^2* er “liten nok”."
   ]
  },
  {
   "cell_type": "markdown",
   "metadata": {},
   "source": [
    "Faktorisering\n",
    "\n",
    "Vi vet at:\n",
    "\n",
    "\\begin{align}\n",
    "n + d^2 = k^2 = (\\frac{p+q}{2})^2 \\\\\n",
    "=> \\\\\n",
    "n = k^2 - d^2 = (k + d)(k - d) = qp \\\\\n",
    "q = k + d\\  \\wedge\\ p = k - d\n",
    "\\end{align}"
   ]
  },
  {
   "cell_type": "markdown",
   "metadata": {},
   "source": [
    "**d)** Faktoriser n = 152416580095517 med denne metoden."
   ]
  },
  {
   "cell_type": "markdown",
   "metadata": {},
   "source": [
    "Vi kan regne ut *d* og *n* med en brute force på denne måten:\n",
    "\n",
    "Vi vet at:\n",
    "\n",
    "\\begin{align}\n",
    "n + d^2 = k^2\\\\\n",
    "=> \\\\\n",
    "k = \\sqrt{n + d^2}\n",
    "\\end{align}\n",
    "\n",
    "*K* er et kvadrattall (alle kvadrattall er heltall)\n",
    "*d* er \"liten nok\"\n",
    "\n",
    "Dette lar oss finne d ved å itterere opp i fra 1, til vi finner den riktige verdien for *d*.\n",
    "Vi vet at vi har funnet riktig *d* når resultatet av formelen for *K* blir ett heltall."
   ]
  },
  {
   "cell_type": "markdown",
   "metadata": {},
   "source": [
    "\\begin{align}\n",
    "n = 152416580095517\\\\\n",
    "d = 1 : \\sqrt{n + d^2} = 12345710,999999878500314805683741\\\\\n",
    "d = 2 : \\sqrt{n + d^2} = 12345711\\\\\n",
    "=>\\\\\n",
    "d = 2 \\wedge k = 12345711\n",
    "\\end{align}\n",
    "\n",
    "Faktorisering:\n",
    "\\begin{align}\n",
    "q = k + d\\  \\wedge\\ p = k - d\\\\\n",
    "q = 12345711 + 2 \\wedge p = 12345711 - 2\\\\\n",
    "q = 12345713 \\wedge p = 12345709\\\\\n",
    "\\end{align}"
   ]
  },
  {
   "cell_type": "code",
   "execution_count": null,
   "metadata": {},
   "outputs": [],
   "source": []
  }
 ],
 "metadata": {
  "kernelspec": {
   "display_name": "Python 3",
   "language": "python",
   "name": "python3"
  },
  "language_info": {
   "codemirror_mode": {
    "name": "ipython",
    "version": 3
   },
   "file_extension": ".py",
   "mimetype": "text/x-python",
   "name": "python",
   "nbconvert_exporter": "python",
   "pygments_lexer": "ipython3",
   "version": "3.7.4"
  }
 },
 "nbformat": 4,
 "nbformat_minor": 4
}
