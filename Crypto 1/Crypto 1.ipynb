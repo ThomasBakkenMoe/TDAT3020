{
 "cells": [
  {
   "cell_type": "markdown",
   "metadata": {},
   "source": [
    "# Crypto 1"
   ]
  },
  {
   "cell_type": "code",
   "execution_count": 7,
   "metadata": {},
   "outputs": [],
   "source": [
    "import numpy as np"
   ]
  },
  {
   "cell_type": "markdown",
   "metadata": {},
   "source": [
    "### Task 1\n",
    "Calculated 232 + 22 * 77 - 18^2 (mod 8)"
   ]
  },
  {
   "cell_type": "code",
   "execution_count": 8,
   "metadata": {},
   "outputs": [
    {
     "name": "stdout",
     "output_type": "stream",
     "text": [
      "Result:\n",
      "2\n"
     ]
    }
   ],
   "source": [
    "print(\"Result:\")\n",
    "print((232 + 22 * 77 - 18 ** 2) % 8)"
   ]
  },
  {
   "cell_type": "markdown",
   "metadata": {},
   "source": [
    "### Task 2\n",
    "**a)** Skriv ut multiplikasjonstbellen Z_12, uten å ta med 0 (mod 12)."
   ]
  },
  {
   "cell_type": "code",
   "execution_count": 9,
   "metadata": {},
   "outputs": [
    {
     "name": "stdout",
     "output_type": "stream",
     "text": [
      "[[ 1.  2.  3.  4.  5.  6.  7.  8.  9. 10. 11.]\n",
      " [ 2.  4.  6.  8. 10.  0.  2.  4.  6.  8. 10.]\n",
      " [ 3.  6.  9.  0.  3.  6.  9.  0.  3.  6.  9.]\n",
      " [ 4.  8.  0.  4.  8.  0.  4.  8.  0.  4.  8.]\n",
      " [ 5. 10.  3.  8.  1.  6. 11.  4.  9.  2.  7.]\n",
      " [ 6.  0.  6.  0.  6.  0.  6.  0.  6.  0.  6.]\n",
      " [ 7.  2.  9.  4. 11.  6.  1.  8.  3. 10.  5.]\n",
      " [ 8.  4.  0.  8.  4.  0.  8.  4.  0.  8.  4.]\n",
      " [ 9.  6.  3.  0.  9.  6.  3.  0.  9.  6.  3.]\n",
      " [10.  8.  6.  4.  2.  0. 10.  8.  6.  4.  2.]\n",
      " [11. 10.  9.  8.  7.  6.  5.  4.  3.  2.  1.]]\n"
     ]
    }
   ],
   "source": [
    "z12 = np.zeros((11, 11))\n",
    "\n",
    "for x in range(11):\n",
    "    for y in range(11):\n",
    "        z12[x][y] = ((x+1) * (y+1))\n",
    "\n",
    "z12 = np.mod(z12, 12)\n",
    "\n",
    "print(z12)"
   ]
  },
  {
   "cell_type": "markdown",
   "metadata": {},
   "source": [
    "**b)** Hvilke tall har multiplikative invers modulo 12?"
   ]
  },
  {
   "cell_type": "code",
   "execution_count": 10,
   "metadata": {},
   "outputs": [
    {
     "name": "stdout",
     "output_type": "stream",
     "text": [
      "1 has a multiplicative inverse with mod 12\n",
      "5 has a multiplicative inverse with mod 12\n",
      "7 has a multiplicative inverse with mod 12\n",
      "11 has a multiplicative inverse with mod 12\n"
     ]
    }
   ],
   "source": [
    "for x in range(11):\n",
    "        for y in range(11):\n",
    "            if z12[x][y] == 1:\n",
    "                print(f'{x+1} has a multiplicative inverse with mod 12')"
   ]
  },
  {
   "cell_type": "markdown",
   "metadata": {},
   "source": [
    "**c)** Forklar hvorfor en ikke kan ha 0 og 1 i samme rad eller kolonne i tabellen."
   ]
  },
  {
   "cell_type": "markdown",
   "metadata": {},
   "source": [
    "**Svar:**\n",
    "Man kan ikke ha bå 0 og 1 i samme rad eller kolonne fordi man kun få 1, i en rad eller kolonnen dersom tallet (som raden eller kolonnen representerer) er relativt primisk med modulotallet (i dette tilfellet 12). For å kunne få 0, i en rad eller kolonnen, kan tallet IKKE være relativt primisk med modulotallet. 0 og 1 er derfor gjensidig utelukkende."
   ]
  },
  {
   "cell_type": "markdown",
   "metadata": {},
   "source": [
    "### Task 3"
   ]
  },
  {
   "cell_type": "code",
   "execution_count": 11,
   "metadata": {},
   "outputs": [],
   "source": [
    "# TODO"
   ]
  },
  {
   "cell_type": "markdown",
   "metadata": {},
   "source": [
    "### Task 4"
   ]
  },
  {
   "cell_type": "markdown",
   "metadata": {},
   "source": [
    "**a)** Hvor mange forskjellige nøkler kan et (enkelt) substitusjonsChiffer ha når vi opererer med et alfabet med 29 tegn?"
   ]
  },
  {
   "cell_type": "markdown",
   "metadata": {},
   "source": [
    "**Svar:** Vi kan ha 29! nøkler."
   ]
  },
  {
   "cell_type": "code",
   "execution_count": 13,
   "metadata": {},
   "outputs": [
    {
     "name": "stdout",
     "output_type": "stream",
     "text": [
      "8841761993739701954543616000000\n"
     ]
    }
   ],
   "source": [
    "print(np.math.factorial(29))"
   ]
  },
  {
   "cell_type": "markdown",
   "metadata": {},
   "source": [
    "**b)** Hvilke enkle grep kan Alice og Bob bruke for å gjøre det vanskeligere for Eva å dekode meldingene?"
   ]
  },
  {
   "cell_type": "markdown",
   "metadata": {},
   "source": [
    "**Svar:** \n",
    "* Alice og Bob kan bruke to forskjellige nøkler, slik at om Eva knekker en av de, så kan hun kun lese halvparten av meldingene.\n",
    "* Alice og Bob kan kutte ut kutte ut mellomrom eller dele opp klarteksten i blokker av en satt lengde slik at det blir vanskeligere gjenkjenne ord bassert på lengde.\n",
    "* Alice og Bob kan kutte ut gjentagende fraser (f. eks \"Hilsen Bob\")"
   ]
  },
  {
   "cell_type": "markdown",
   "metadata": {},
   "source": [
    "**c)** Hvis vi lager et substitusjonchiffer for blokker med *n* tegn, hvor mange nøkler finnes da?"
   ]
  },
  {
   "cell_type": "markdown",
   "metadata": {},
   "source": [
    "**Svar:** Vi får (29^n)! "
   ]
  },
  {
   "cell_type": "markdown",
   "metadata": {},
   "source": [
    "### Task 5"
   ]
  },
  {
   "cell_type": "markdown",
   "metadata": {},
   "source": [
    "Dekrypter denne strengen: \n",
    "\n",
    "**YÆVFB VBVFR ÅVBV** \n",
    "\n",
    "Den er kryptert med et k-skift-chiffer."
   ]
  },
  {
   "cell_type": "code",
   "execution_count": 31,
   "metadata": {},
   "outputs": [],
   "source": [
    "alphabet_number = {\n",
    "    'a' : 0,\n",
    "    'b' : 1,\n",
    "    'c' : 2,\n",
    "    'd' : 3,\n",
    "    'e' : 4,\n",
    "    'f' : 5,\n",
    "    'g' : 6,\n",
    "    'h' : 7,\n",
    "    'i' : 8,\n",
    "    'j' : 9,\n",
    "    'k' : 10,\n",
    "    'l' : 11,\n",
    "    'm' : 12,\n",
    "    'n' : 13,\n",
    "    'o' : 14,\n",
    "    'p' : 15,\n",
    "    'q' : 16,\n",
    "    'r' : 17,\n",
    "    's' : 18,\n",
    "    't' : 19,\n",
    "    'u' : 20,\n",
    "    'v' : 21,\n",
    "    'w' : 22,\n",
    "    'x' : 23,\n",
    "    'y' : 24,\n",
    "    'z' : 25,\n",
    "    'æ' : 26,\n",
    "    'ø' : 27,\n",
    "    'å' : 28\n",
    "    \n",
    "}\n",
    "\n",
    "alphabet = [\n",
    "    'a',\n",
    "    'b',\n",
    "    'c',\n",
    "    'd',\n",
    "    'e',\n",
    "    'f',\n",
    "    'g',\n",
    "    'h',\n",
    "    'i',\n",
    "    'j',\n",
    "    'k',\n",
    "    'l',\n",
    "    'm',\n",
    "    'n',\n",
    "    'o',\n",
    "    'p',\n",
    "    'q',\n",
    "    'r',\n",
    "    's',\n",
    "    't',\n",
    "    'u',\n",
    "    'v',\n",
    "    'w',\n",
    "    'x',\n",
    "    'y',\n",
    "    'z',\n",
    "    'æ',\n",
    "    'ø',\n",
    "    'å'\n",
    "]\n",
    "\n",
    "def reformat_index(i):\n",
    "    if i < 0:\n",
    "        return 29 + i\n",
    "    \n",
    "    return i"
   ]
  },
  {
   "cell_type": "code",
   "execution_count": 32,
   "metadata": {},
   "outputs": [],
   "source": [
    "input = \"yævfbvbvfråvbv\"\n",
    "int_list = []\n",
    "\n",
    "for char in input:\n",
    "    int_list.append(alphabet_number[char])\n",
    "    "
   ]
  },
  {
   "cell_type": "code",
   "execution_count": 34,
   "metadata": {},
   "outputs": [
    {
     "name": "stdout",
     "output_type": "stream",
     "text": [
      "0:\n",
      "yævfbvbvfråvbv\n",
      "1:\n",
      "xzueauaueqøuau\n",
      "2:\n",
      "wytdåtåtdpætåt\n",
      "3:\n",
      "vxscøsøscozsøs\n",
      "4:\n",
      "uwrbærærbnyrær\n",
      "5:\n",
      "tvqazqzqamxqzq\n",
      "6:\n",
      "supåypypålwpyp\n",
      "7:\n",
      "rtoøxoxoøkvoxo\n",
      "8:\n",
      "qsnæwnwnæjunwn\n",
      "9:\n",
      "prmzvmvmzitmvm\n",
      "10:\n",
      "oqlyululyhslul\n",
      "11:\n",
      "npkxtktkxgrktk\n",
      "12:\n",
      "mojwsjsjwfqjsj\n",
      "13:\n",
      "lnivririvepiri\n",
      "14:\n",
      "kmhuqhqhudohqh\n",
      "15:\n",
      "jlgtpgpgtcngpg\n",
      "16:\n",
      "ikfsofofsbmfof\n",
      "17:\n",
      "hjerneneralene\n",
      "18:\n",
      "gidqmdmdqåkdmd\n",
      "19:\n",
      "fhcplclcpøjclc\n",
      "20:\n",
      "egbokbkboæibkb\n",
      "21:\n",
      "dfanjajanzhaja\n",
      "22:\n",
      "ceåmiåiåmygåiå\n",
      "23:\n",
      "bdølhøhølxføhø\n",
      "24:\n",
      "acækgægækweægæ\n",
      "25:\n",
      "åbzjfzfzjvdzfz\n",
      "26:\n",
      "øayieyeyiucyey\n",
      "27:\n",
      "æåxhdxdxhtbxdx\n",
      "28:\n",
      "zøwgcwcwgsawcw\n"
     ]
    }
   ],
   "source": [
    "for x in range(29):\n",
    "    print(f'{x}:')\n",
    "    output = \"\"\n",
    "    for i in int_list:\n",
    "        output += alphabet[reformat_index(i-x)]\n",
    "    print(output)"
   ]
  },
  {
   "cell_type": "markdown",
   "metadata": {},
   "source": [
    "**Svar:**\n",
    "\n",
    "Krypteringsnøkkel: *17*\n",
    "\n",
    "Klartekst: \n",
    "*hjern enera lene* -> *Hjernen er alene*"
   ]
  },
  {
   "cell_type": "markdown",
   "metadata": {},
   "source": [
    "### Task 6"
   ]
  },
  {
   "cell_type": "markdown",
   "metadata": {},
   "source": [
    "Definer et blokk-chiffer med blokklengde *b*, og et alfabet med *N* tegn, som bruker samme prinsikk som skift-chifret.\n",
    "\n",
    "* Skriv opp en formell definisjon.\n",
    "\n",
    "* Hvor mange forskjellige nøkler har chifret?\n",
    "\n",
    "\n",
    "**Svar:** Dette chifret har *(N^b)!* nøkler.\n"
   ]
  },
  {
   "cell_type": "markdown",
   "metadata": {},
   "source": [
    "### Task 7"
   ]
  },
  {
   "cell_type": "markdown",
   "metadata": {},
   "source": [
    "Vigénere-chiffer.\n",
    "\n",
    "**a)** Krypter teksten \"Nå er det snart helg\" med nøkkelordet \"torsk\"."
   ]
  },
  {
   "cell_type": "code",
   "execution_count": null,
   "metadata": {},
   "outputs": [],
   "source": []
  }
 ],
 "metadata": {
  "kernelspec": {
   "display_name": "Python 3",
   "language": "python",
   "name": "python3"
  },
  "language_info": {
   "codemirror_mode": {
    "name": "ipython",
    "version": 3
   },
   "file_extension": ".py",
   "mimetype": "text/x-python",
   "name": "python",
   "nbconvert_exporter": "python",
   "pygments_lexer": "ipython3",
   "version": "3.7.4"
  }
 },
 "nbformat": 4,
 "nbformat_minor": 4
}
