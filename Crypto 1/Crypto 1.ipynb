{
 "cells": [
  {
   "cell_type": "markdown",
   "metadata": {},
   "source": [
    "# Crypto 1"
   ]
  },
  {
   "cell_type": "code",
   "execution_count": 5,
   "metadata": {},
   "outputs": [],
   "source": [
    "import numpy as np"
   ]
  },
  {
   "cell_type": "markdown",
   "metadata": {},
   "source": [
    "### Task 1\n",
    "Calculated 232 + 22 * 77 - 18^2 (mod 8)"
   ]
  },
  {
   "cell_type": "code",
   "execution_count": 6,
   "metadata": {},
   "outputs": [
    {
     "name": "stdout",
     "output_type": "stream",
     "text": [
      "Result:\n",
      "2\n"
     ]
    }
   ],
   "source": [
    "print(\"Result:\")\n",
    "print((232 + 22 * 77 - 18 ** 2) % 8)"
   ]
  },
  {
   "cell_type": "markdown",
   "metadata": {},
   "source": [
    "### Task 2\n",
    "**a)** Skriv ut multiplikasjonstbellen Z_12, uten å ta med 0 (mod 12)."
   ]
  },
  {
   "cell_type": "code",
   "execution_count": 7,
   "metadata": {},
   "outputs": [
    {
     "name": "stdout",
     "output_type": "stream",
     "text": [
      "[[ 1.  2.  3.  4.  5.  6.  7.  8.  9. 10. 11.]\n",
      " [ 2.  4.  6.  8. 10.  0.  2.  4.  6.  8. 10.]\n",
      " [ 3.  6.  9.  0.  3.  6.  9.  0.  3.  6.  9.]\n",
      " [ 4.  8.  0.  4.  8.  0.  4.  8.  0.  4.  8.]\n",
      " [ 5. 10.  3.  8.  1.  6. 11.  4.  9.  2.  7.]\n",
      " [ 6.  0.  6.  0.  6.  0.  6.  0.  6.  0.  6.]\n",
      " [ 7.  2.  9.  4. 11.  6.  1.  8.  3. 10.  5.]\n",
      " [ 8.  4.  0.  8.  4.  0.  8.  4.  0.  8.  4.]\n",
      " [ 9.  6.  3.  0.  9.  6.  3.  0.  9.  6.  3.]\n",
      " [10.  8.  6.  4.  2.  0. 10.  8.  6.  4.  2.]\n",
      " [11. 10.  9.  8.  7.  6.  5.  4.  3.  2.  1.]]\n"
     ]
    }
   ],
   "source": [
    "z12 = np.zeros((11, 11))\n",
    "\n",
    "for x in range(11):\n",
    "    for y in range(11):\n",
    "        z12[x][y] = ((x+1) * (y+1))\n",
    "\n",
    "z12 = np.mod(z12, 12)\n",
    "\n",
    "print(z12)"
   ]
  },
  {
   "cell_type": "markdown",
   "metadata": {},
   "source": [
    "**b)** Hvilke tall har multiplikative invers modulo 12?"
   ]
  },
  {
   "cell_type": "code",
   "execution_count": 8,
   "metadata": {},
   "outputs": [
    {
     "name": "stdout",
     "output_type": "stream",
     "text": [
      "1 has a multiplicative inverse with mod 12\n",
      "5 has a multiplicative inverse with mod 12\n",
      "7 has a multiplicative inverse with mod 12\n",
      "11 has a multiplicative inverse with mod 12\n"
     ]
    }
   ],
   "source": [
    "for x in range(11):\n",
    "        for y in range(11):\n",
    "            if z12[x][y] == 1:\n",
    "                print(f'{x+1} has a multiplicative inverse with mod 12')"
   ]
  },
  {
   "cell_type": "markdown",
   "metadata": {},
   "source": [
    "**c)** Forklar hvorfor en ikke kan ha 0 og 1 i samme rad eller kolonne i tabellen."
   ]
  },
  {
   "cell_type": "markdown",
   "metadata": {},
   "source": [
    "**Svar:**\n",
    "Man kan ikke ha bå 0 og 1 i samme rad eller kolonne fordi man kun få 1, i en rad eller kolonnen dersom tallet (som raden eller kolonnen representerer) er relativt primisk med modulotallet (i dette tilfellet 12). For å kunne få 0, i en rad eller kolonnen, kan tallet IKKE være relativt primisk med modulotallet. 0 og 1 er derfor gjensidig utelukkende."
   ]
  },
  {
   "cell_type": "markdown",
   "metadata": {},
   "source": [
    "### Task 3"
   ]
  },
  {
   "cell_type": "code",
   "execution_count": 29,
   "metadata": {},
   "outputs": [],
   "source": [
    "def multiplicative_inverse(matrix):\n",
    "    array = []\n",
    "    for x in range(len(matrix)):\n",
    "        for y in range(len(matrix)):\n",
    "            if(matrix[x][y] == 1):\n",
    "                array.append([x+1, y+1])\n",
    "    return array\n",
    "\n",
    "def inverse_matrix(A):\n",
    "    if np.linalg.det(A) != 0:\n",
    "        return np.linalg.inv(A)*np.linalg.det(A)\n",
    "    else:\n",
    "        return None \n",
    "\n",
    "def inverse_matrix_over_a(a, z):\n",
    "    a_det = int(np.linalg.det(a))\n",
    "    a_det_mod = a_det % len(z)\n",
    "    z_multipl_inverse = multiplicative_inverse(z)\n",
    "    det_in_multipl_inverse = False\n",
    "    \n",
    "    for x in z_multipl_inverse:\n",
    "        if a_det_mod in x:\n",
    "            det_in_multipl_inverse = True\n",
    "    \n",
    "    if(det_in_multipl_inverse):\n",
    "        a_inv = inverse_matrix(a)\n",
    "        return a_inv\n",
    "    else:\n",
    "        return None"
   ]
  },
  {
   "cell_type": "markdown",
   "metadata": {},
   "source": [
    "Finn den inverse matrisen til A =\n",
    "(\n",
    "[2, −1],\n",
    "[5, 8] )\n",
    "over"
   ]
  },
  {
   "cell_type": "markdown",
   "metadata": {},
   "source": [
    "**a)** Z_10"
   ]
  },
  {
   "cell_type": "code",
   "execution_count": 54,
   "metadata": {},
   "outputs": [
    {
     "name": "stdout",
     "output_type": "stream",
     "text": [
      "[[ 8.  1.]\n",
      " [-5.  2.]]\n"
     ]
    }
   ],
   "source": [
    "A = np.array([[2, -1], [5,8]])\n",
    "\n",
    "Z_10 = np.zeros((9, 9))\n",
    "\n",
    "for x in range(9):\n",
    "    for y in range(9):\n",
    "        Z_10[x][y] = ((x+1) * (y+1))\n",
    "\n",
    "Z_10 = np.mod(Z_10, 10)\n",
    "\n",
    "A_inv = inverse_matrix_over_a(A, Z_10)\n",
    "\n",
    "print(A_inv)"
   ]
  },
  {
   "cell_type": "markdown",
   "metadata": {},
   "source": [
    "**b)** Z_9"
   ]
  },
  {
   "cell_type": "code",
   "execution_count": 55,
   "metadata": {},
   "outputs": [
    {
     "name": "stdout",
     "output_type": "stream",
     "text": [
      "[[ 8.  1.]\n",
      " [-5.  2.]]\n"
     ]
    }
   ],
   "source": [
    "Z_9 = np.zeros((8, 8))\n",
    "\n",
    "for x in range(8):\n",
    "    for y in range(8):\n",
    "        Z_9[x][y] = ((x+1) * (y+1))\n",
    "\n",
    "Z_9 = np.mod(Z_9, 9)\n",
    "\n",
    "A_inv = inverse_matrix_over_a(A, Z_9)\n",
    "\n",
    "print(A_inv)"
   ]
  },
  {
   "cell_type": "markdown",
   "metadata": {},
   "source": [
    "### Task 4"
   ]
  },
  {
   "cell_type": "markdown",
   "metadata": {},
   "source": [
    "**a)** Hvor mange forskjellige nøkler kan et (enkelt) substitusjonsChiffer ha når vi opererer med et alfabet med 29 tegn?"
   ]
  },
  {
   "cell_type": "markdown",
   "metadata": {},
   "source": [
    "**Svar:** Vi kan ha 29! nøkler."
   ]
  },
  {
   "cell_type": "code",
   "execution_count": 10,
   "metadata": {},
   "outputs": [
    {
     "name": "stdout",
     "output_type": "stream",
     "text": [
      "8841761993739701954543616000000\n"
     ]
    }
   ],
   "source": [
    "print(np.math.factorial(29))"
   ]
  },
  {
   "cell_type": "markdown",
   "metadata": {},
   "source": [
    "**b)** Hvilke enkle grep kan Alice og Bob bruke for å gjøre det vanskeligere for Eva å dekode meldingene?"
   ]
  },
  {
   "cell_type": "markdown",
   "metadata": {},
   "source": [
    "**Svar:** \n",
    "* Alice og Bob kan bruke to forskjellige nøkler, slik at om Eva knekker en av de, så kan hun kun lese halvparten av meldingene.\n",
    "* Alice og Bob kan kutte ut kutte ut mellomrom eller dele opp klarteksten i blokker av en satt lengde slik at det blir vanskeligere gjenkjenne ord bassert på lengde.\n",
    "* Alice og Bob kan kutte ut gjentagende fraser (f. eks \"Hilsen Bob\")"
   ]
  },
  {
   "cell_type": "markdown",
   "metadata": {},
   "source": [
    "**c)** Hvis vi lager et substitusjonchiffer for blokker med *n* tegn, hvor mange nøkler finnes da?"
   ]
  },
  {
   "cell_type": "markdown",
   "metadata": {},
   "source": [
    "**Svar:** Vi får (29^n)! "
   ]
  },
  {
   "cell_type": "markdown",
   "metadata": {},
   "source": [
    "### Task 5"
   ]
  },
  {
   "cell_type": "markdown",
   "metadata": {},
   "source": [
    "Dekrypter denne strengen: \n",
    "\n",
    "**YÆVFB VBVFR ÅVBV** \n",
    "\n",
    "Den er kryptert med et k-skift-chiffer."
   ]
  },
  {
   "cell_type": "code",
   "execution_count": 11,
   "metadata": {},
   "outputs": [],
   "source": [
    "alphabet_number = {\n",
    "    'a' : 0,\n",
    "    'b' : 1,\n",
    "    'c' : 2,\n",
    "    'd' : 3,\n",
    "    'e' : 4,\n",
    "    'f' : 5,\n",
    "    'g' : 6,\n",
    "    'h' : 7,\n",
    "    'i' : 8,\n",
    "    'j' : 9,\n",
    "    'k' : 10,\n",
    "    'l' : 11,\n",
    "    'm' : 12,\n",
    "    'n' : 13,\n",
    "    'o' : 14,\n",
    "    'p' : 15,\n",
    "    'q' : 16,\n",
    "    'r' : 17,\n",
    "    's' : 18,\n",
    "    't' : 19,\n",
    "    'u' : 20,\n",
    "    'v' : 21,\n",
    "    'w' : 22,\n",
    "    'x' : 23,\n",
    "    'y' : 24,\n",
    "    'z' : 25,\n",
    "    'æ' : 26,\n",
    "    'ø' : 27,\n",
    "    'å' : 28\n",
    "    \n",
    "}\n",
    "\n",
    "alphabet = [\n",
    "    'a',\n",
    "    'b',\n",
    "    'c',\n",
    "    'd',\n",
    "    'e',\n",
    "    'f',\n",
    "    'g',\n",
    "    'h',\n",
    "    'i',\n",
    "    'j',\n",
    "    'k',\n",
    "    'l',\n",
    "    'm',\n",
    "    'n',\n",
    "    'o',\n",
    "    'p',\n",
    "    'q',\n",
    "    'r',\n",
    "    's',\n",
    "    't',\n",
    "    'u',\n",
    "    'v',\n",
    "    'w',\n",
    "    'x',\n",
    "    'y',\n",
    "    'z',\n",
    "    'æ',\n",
    "    'ø',\n",
    "    'å'\n",
    "]\n",
    "\n",
    "def reformat_index(i):\n",
    "    if i < 0:\n",
    "        return 29 + i\n",
    "    \n",
    "    return i"
   ]
  },
  {
   "cell_type": "code",
   "execution_count": 12,
   "metadata": {},
   "outputs": [],
   "source": [
    "input = \"yævfbvbvfråvbv\"\n",
    "int_list = []\n",
    "\n",
    "for char in input:\n",
    "    int_list.append(alphabet_number[char])\n",
    "    "
   ]
  },
  {
   "cell_type": "code",
   "execution_count": 13,
   "metadata": {},
   "outputs": [
    {
     "name": "stdout",
     "output_type": "stream",
     "text": [
      "0:\n",
      "yævfbvbvfråvbv\n",
      "1:\n",
      "xzueauaueqøuau\n",
      "2:\n",
      "wytdåtåtdpætåt\n",
      "3:\n",
      "vxscøsøscozsøs\n",
      "4:\n",
      "uwrbærærbnyrær\n",
      "5:\n",
      "tvqazqzqamxqzq\n",
      "6:\n",
      "supåypypålwpyp\n",
      "7:\n",
      "rtoøxoxoøkvoxo\n",
      "8:\n",
      "qsnæwnwnæjunwn\n",
      "9:\n",
      "prmzvmvmzitmvm\n",
      "10:\n",
      "oqlyululyhslul\n",
      "11:\n",
      "npkxtktkxgrktk\n",
      "12:\n",
      "mojwsjsjwfqjsj\n",
      "13:\n",
      "lnivririvepiri\n",
      "14:\n",
      "kmhuqhqhudohqh\n",
      "15:\n",
      "jlgtpgpgtcngpg\n",
      "16:\n",
      "ikfsofofsbmfof\n",
      "17:\n",
      "hjerneneralene\n",
      "18:\n",
      "gidqmdmdqåkdmd\n",
      "19:\n",
      "fhcplclcpøjclc\n",
      "20:\n",
      "egbokbkboæibkb\n",
      "21:\n",
      "dfanjajanzhaja\n",
      "22:\n",
      "ceåmiåiåmygåiå\n",
      "23:\n",
      "bdølhøhølxføhø\n",
      "24:\n",
      "acækgægækweægæ\n",
      "25:\n",
      "åbzjfzfzjvdzfz\n",
      "26:\n",
      "øayieyeyiucyey\n",
      "27:\n",
      "æåxhdxdxhtbxdx\n",
      "28:\n",
      "zøwgcwcwgsawcw\n"
     ]
    }
   ],
   "source": [
    "for x in range(29):\n",
    "    print(f'{x}:')\n",
    "    output = \"\"\n",
    "    for i in int_list:\n",
    "        output += alphabet[reformat_index(i-x)]\n",
    "    print(output)"
   ]
  },
  {
   "cell_type": "markdown",
   "metadata": {},
   "source": [
    "**Svar:**\n",
    "\n",
    "Krypteringsnøkkel: *17*\n",
    "\n",
    "Klartekst: \n",
    "*hjern enera lene* -> *Hjernen er alene*"
   ]
  },
  {
   "cell_type": "markdown",
   "metadata": {},
   "source": [
    "### Task 6"
   ]
  },
  {
   "cell_type": "markdown",
   "metadata": {},
   "source": [
    "Definer et blokk-chiffer med blokklengde *b*, og et alfabet med *N* tegn, som bruker samme prinsikk som skift-chifret.\n",
    "\n",
    "* Skriv opp en formell definisjon.\n",
    "\n",
    "* Hvor mange forskjellige nøkler har chifret?\n",
    "\n",
    "\n",
    "**Svar:** Dette chifret har *(N^b)!* nøkler.\n"
   ]
  },
  {
   "cell_type": "markdown",
   "metadata": {},
   "source": [
    "### Task 7"
   ]
  },
  {
   "cell_type": "markdown",
   "metadata": {},
   "source": [
    "Vigénere-chiffer.\n",
    "\n",
    "**a)** Krypter teksten \"Nå er det snart helg\" med nøkkelordet \"torsk\"."
   ]
  },
  {
   "cell_type": "code",
   "execution_count": 22,
   "metadata": {},
   "outputs": [],
   "source": [
    "def create_vigenere_table():\n",
    "    \n",
    "    table = np.zeros((29,29), 'U1')\n",
    "    \n",
    "    letters = alphabet\n",
    "    \n",
    "    for row in range(len(letters)):\n",
    "        for col in range(len(letters)):\n",
    "            charToAdd = (col+row) % len(letters)\n",
    "            table[row][col] = letters[charToAdd]\n",
    "            \n",
    "    return (table, letters)\n",
    "\n",
    "def encrypt(clearText, key):\n",
    "    table, letters = create_vigenere_table()\n",
    "    cipher = \"\"\n",
    "    \n",
    "    for i, letter in enumerate(clearText):\n",
    "        indexCol = letters.index(letter)\n",
    "        indexRow = letters.index(key[i % len(key)])\n",
    "        cipher += table[indexRow][indexCol]\n",
    "        \n",
    "    return cipher\n",
    "\n",
    "def decrypt(cipher, key):\n",
    "    table, letters = create_vigenere_table()\n",
    "    clearText = \"\"\n",
    "\n",
    "    for i, letter in enumerate(cipher):\n",
    "        indexCol = letters.index(letter)\n",
    "        indexRow = letters.index(key[i % len(key)])\n",
    "        clearText += letters[(indexCol - indexRow) % len(letters)]\n",
    "        \n",
    "    return clearText"
   ]
  },
  {
   "cell_type": "code",
   "execution_count": 23,
   "metadata": {},
   "outputs": [
    {
     "name": "stdout",
     "output_type": "stream",
     "text": [
      "Encrypted cipher:  dnvgnxegckheywvz\n",
      "Decrypted clearText: nåerdetsnarthelg\n"
     ]
    }
   ],
   "source": [
    "clearText = \"Nå er det snart helg\".replace(\" \", \"\").lower()\n",
    "key = \"torsk\".lower()\n",
    "\n",
    "cipher = encrypt(clearText, key)\n",
    "\n",
    "print(\"Encrypted cipher: \", cipher)\n",
    "\n",
    "decrypted = decrypt(cipher, key)\n",
    "print(\"Decrypted clearText:\", decrypted)"
   ]
  },
  {
   "cell_type": "markdown",
   "metadata": {},
   "source": [
    "**b)** Dekrypter QZQOBVCAFFKSDC med nøkkelordet “brus”"
   ]
  },
  {
   "cell_type": "code",
   "execution_count": 24,
   "metadata": {},
   "outputs": [
    {
     "name": "stdout",
     "output_type": "stream",
     "text": [
      "Decrypted: pizzaellertaco\n"
     ]
    }
   ],
   "source": [
    "cipher = \"qzqobvcaffksdc\"\n",
    "key = \"brus\"\n",
    "\n",
    "decrypted = decrypt(cipher, key)\n",
    "print(\"Decrypted:\", decrypted)"
   ]
  },
  {
   "cell_type": "markdown",
   "metadata": {},
   "source": [
    "**c)** Hvis m = 5, hvor mange nøkler finnes?\n",
    "\n",
    "**Svar:** Det finnes 29^5 antall nøkler."
   ]
  },
  {
   "cell_type": "markdown",
   "metadata": {},
   "source": [
    "### Task 8"
   ]
  },
  {
   "cell_type": "markdown",
   "metadata": {},
   "source": [
    "**a)** Finn K^(−1) over Z_29."
   ]
  },
  {
   "cell_type": "code",
   "execution_count": 30,
   "metadata": {},
   "outputs": [
    {
     "name": "stdout",
     "output_type": "stream",
     "text": [
      "[[ 7. -8.]\n",
      " [-3. 11.]]\n"
     ]
    }
   ],
   "source": [
    "K = np.array([[11, 8],[3, 7]])\n",
    "\n",
    "Z_29 = np.zeros((28, 28))\n",
    "\n",
    "for x in range(28):\n",
    "    for y in range(28):\n",
    "        Z_29[x][y] = ((x+1) * (y+1))\n",
    "\n",
    "Z_29 = np.mod(Z_29, 29)\n",
    "\n",
    "K_inv = inverse_matrix_over_a(K, Z_29)\n",
    "print(K_inv)"
   ]
  },
  {
   "cell_type": "markdown",
   "metadata": {},
   "source": [
    "**b)** Krypter teksten “prim” med K som nøkkel i Hill-chifret."
   ]
  },
  {
   "cell_type": "code",
   "execution_count": 42,
   "metadata": {},
   "outputs": [],
   "source": [
    "def vectorize_string(text):\n",
    "    vector = []\n",
    "    for letter in text:\n",
    "        indexLetter = letters.index(letter)\n",
    "        vector.append(indexLetter)\n",
    "    vector = np.array(vector)\n",
    "    return vector\n",
    "\n",
    "def gcdExtended(a, b):  \n",
    "    # Base Case  \n",
    "    if a == 0 :   \n",
    "        return b,0,1\n",
    "             \n",
    "    gcd,x1,y1 = gcdExtended(b%a, a)  \n",
    "     \n",
    "    # Update x and y using results of recursive  \n",
    "    # call  \n",
    "    x = y1 - (b//a) * x1  \n",
    "    y = x1  \n",
    "     \n",
    "    return gcd,x,y \n",
    "    \n",
    "def encrypt_hill(cleartext, k_matrix, key_size=2):\n",
    "    if(len(cleartext)%2 == 0):\n",
    "        cleartext_vector = vectorize_string(cleartext).reshape((-1, key_size))\n",
    "    else:\n",
    "        cleartext_vector = vectorize_28string(cleartext+\"A\").reshape((-1, key_size))\n",
    "    cipher = \"\"\n",
    "    \n",
    "    e_list = []\n",
    "    for vector in cleartext_vector:\n",
    "        encryption = (vector@k_matrix)%len(letters)\n",
    "        e_list.append(encryption)\n",
    "    \n",
    "    for row in e_list:\n",
    "        for column in row:\n",
    "            cipher += letters[column%len(letters)]\n",
    "            \n",
    "    return cipher\n",
    "\n",
    "def decrypt_hill(cipher, K, key_size=2):\n",
    "    \n",
    "    Z_29 = np.zeros((28, 28))\n",
    "    for x in range(28):\n",
    "        for y in range(28):\n",
    "            Z_29[x][y] = ((x+1) * (y+1))\n",
    "\n",
    "    Z_29 = np.mod(Z_29, 29)\n",
    "    \n",
    "    K_inv = inverse_matrix_over_a(K, Z_29)\n",
    "    if(K_inv is not None):\n",
    "        K_det = round(np.linalg.det(K))%len(letters)\n",
    "        \n",
    "        if(len(cipher)%2 == 0):\n",
    "            cipher_vector = vectorize_string(cipher).reshape((-1, key_size))\n",
    "        else:\n",
    "            cipher_vector = vectorize_string(cipher+\"a\").reshape((-1, key_size))\n",
    "            \n",
    "        x = gcdExtended(K_det, len(letters))[1]\n",
    "        d_list = []\n",
    "        \n",
    "        for vector in cipher_vector:\n",
    "            decryption = (vector@(K_inv*x))% len(letters)\n",
    "            d_list.append(decryption)\n",
    "\n",
    "        cleartext = \"\"\n",
    "        for row in d_list:\n",
    "            for column in row:\n",
    "                cleartext += letters[int(round(column))%len(letters)]\n",
    "        return cleartext\n",
    "    else:\n",
    "        return \"\""
   ]
  },
  {
   "cell_type": "code",
   "execution_count": 43,
   "metadata": {},
   "outputs": [
    {
     "name": "stdout",
     "output_type": "stream",
     "text": [
      "nhid\n"
     ]
    }
   ],
   "source": [
    "letters = alphabet\n",
    "\n",
    "cleartext_hill= \"prim\"\n",
    "cipher_hill_text = encrypt_hill(cleartext_hill, K)\n",
    "print(cipher_hill_text)"
   ]
  },
  {
   "cell_type": "markdown",
   "metadata": {},
   "source": [
    "**c)** Dekrypter meldingen TOYYSN"
   ]
  },
  {
   "cell_type": "code",
   "execution_count": 44,
   "metadata": {},
   "outputs": [
    {
     "name": "stdout",
     "output_type": "stream",
     "text": [
      "fredag\n"
     ]
    }
   ],
   "source": [
    "cipher = \"toyysn\"\n",
    "decrypted = decrypt_hill(cipher, K)\n",
    "print(decrypted)"
   ]
  },
  {
   "cell_type": "markdown",
   "metadata": {},
   "source": [
    "**d)**  For en annen nøkkel med m = 2, så er meldingen EASY kryptert til\n",
    "IØÅY. Finn nøkkelen ut fra bare kjennskap til denne ene meldingen og        \n",
    "dens kryptering."
   ]
  },
  {
   "cell_type": "code",
   "execution_count": 49,
   "metadata": {},
   "outputs": [
    {
     "name": "stdout",
     "output_type": "stream",
     "text": [
      "Brute force result:\n",
      "[[ 2 14]\n",
      " [19  5]]\n"
     ]
    }
   ],
   "source": [
    "clearText_string = \"easy\"\n",
    "encrypted_string = \"iøåy\"\n",
    "\n",
    "# Brute force metode\n",
    "found_key = False\n",
    "brute_key = np.array([])\n",
    "for a in range(21):\n",
    "    if found_key: break\n",
    "    for b in range(21):\n",
    "        if found_key: break\n",
    "        for c in range(21):\n",
    "            if found_key: break\n",
    "            for d in range(21):\n",
    "                testKey = np.array([[a, b], [c, d]])\n",
    "                if(decrypt_hill(encrypted_string, testKey) == clearText_string):\n",
    "                    print(\"Brute force result:\")\n",
    "                    print(testKey)\n",
    "                    found_key = True\n",
    "                    brute_key = testKey\n",
    "                    break"
   ]
  },
  {
   "cell_type": "code",
   "execution_count": null,
   "metadata": {},
   "outputs": [],
   "source": []
  }
 ],
 "metadata": {
  "kernelspec": {
   "display_name": "Python 3",
   "language": "python",
   "name": "python3"
  },
  "language_info": {
   "codemirror_mode": {
    "name": "ipython",
    "version": 3
   },
   "file_extension": ".py",
   "mimetype": "text/x-python",
   "name": "python",
   "nbconvert_exporter": "python",
   "pygments_lexer": "ipython3",
   "version": "3.7.4"
  }
 },
 "nbformat": 4,
 "nbformat_minor": 4
}
