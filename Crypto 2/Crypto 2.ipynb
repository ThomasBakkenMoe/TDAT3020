{
 "cells": [
  {
   "cell_type": "markdown",
   "metadata": {},
   "source": [
    "# Øving 16K\n",
    "### Crypto 2"
   ]
  },
  {
   "cell_type": "markdown",
   "metadata": {},
   "source": [
    "### Oppgave 1"
   ]
  },
  {
   "cell_type": "markdown",
   "metadata": {},
   "source": [
    "**a)** Gitt følgende rekursive føge/LFSR:\n",
    "\n",
    "z_i+4 = z_i + z_i+1 + z_i+2 + z_i+3 (mod 2)"
   ]
  },
  {
   "cell_type": "markdown",
   "metadata": {},
   "source": [
    "**K = 1000**110001100011000\n",
    "\n",
    "**K = 0011**000110001100011\n",
    "\n",
    "**K = 1111**011110111101111"
   ]
  },
  {
   "cell_type": "markdown",
   "metadata": {},
   "source": [
    "**b)** Gjør det samme for følgende LFSR:\n",
    "\n",
    "z_i+4 = z_i + z_i+3 (mod 2)"
   ]
  },
  {
   "cell_type": "markdown",
   "metadata": {},
   "source": [
    "**K = 1000**111101011001000\n",
    "\n",
    "**K = 0011**110101100100011\n",
    "\n",
    "**K = 1111**010110010001111"
   ]
  },
  {
   "cell_type": "markdown",
   "metadata": {},
   "source": [
    "### Oppgave 2"
   ]
  },
  {
   "cell_type": "markdown",
   "metadata": {},
   "source": [
    "Bruk Autokey-chifret, med P = C = Z_29\n",
    "\n",
    "* La *k* = 17 og krypter teksten *goddag*\n",
    "* Gitt *k* = 5, dekrypter 23 08 23 12 21 02 04 03 17 13 19."
   ]
  },
  {
   "cell_type": "code",
   "execution_count": 5,
   "metadata": {},
   "outputs": [],
   "source": [
    "alphabet_to_num = {\n",
    "    \"a\" : 0,\n",
    "    \"b\" : 1,\n",
    "    \"c\" : 2,\n",
    "    \"d\" : 3,\n",
    "    \"e\" : 4,\n",
    "    \"f\" : 5,\n",
    "    \"g\" : 6,\n",
    "    \"h\" : 7,\n",
    "    \"i\" : 8,\n",
    "    \"j\" : 9,\n",
    "    \"k\" : 10,\n",
    "    \"l\" : 11,\n",
    "    \"m\" : 12,\n",
    "    \"n\" : 13,\n",
    "    \"o\" : 14,\n",
    "    \"p\" : 15,\n",
    "    \"q\" : 16,\n",
    "    \"r\" : 17,\n",
    "    \"s\" : 18,\n",
    "    \"t\" : 19,\n",
    "    \"u\" : 20,\n",
    "    \"v\" : 21,\n",
    "    \"w\" : 22,\n",
    "    \"x\" : 23,\n",
    "    \"y\" : 24,\n",
    "    \"z\" : 25,\n",
    "    \"æ\" : 26,\n",
    "    \"ø\" : 27,\n",
    "    \"å\" : 28\n",
    "}"
   ]
  },
  {
   "cell_type": "code",
   "execution_count": 6,
   "metadata": {},
   "outputs": [],
   "source": [
    "num_to_alphabet = {\n",
    "    0 : \"a\",\n",
    "    1 : \"b\",\n",
    "    2 : \"c\",\n",
    "    3 : \"d\",\n",
    "    4 : \"e\",\n",
    "    5 : \"f\",\n",
    "    6 : \"g\",\n",
    "    7 : \"h\",\n",
    "    8 : \"i\",\n",
    "    9 : \"j\",\n",
    "    10 : \"k\",\n",
    "    11 : \"l\",\n",
    "    12 : \"m\",\n",
    "    13 : \"n\",\n",
    "    14 : \"o\",\n",
    "    15 : \"p\",\n",
    "    16 : \"q\",\n",
    "    17 : \"r\",\n",
    "    18 : \"s\",\n",
    "    19 : \"t\",\n",
    "    20 : \"u\",\n",
    "    21 : \"v\",\n",
    "    22 : \"w\",\n",
    "    23 : \"x\",\n",
    "    24 : \"y\",\n",
    "    25 : \"z\",\n",
    "    26 : \"æ\",\n",
    "    27 : \"ø\",\n",
    "    28 : \"å\"\n",
    "}"
   ]
  },
  {
   "cell_type": "markdown",
   "metadata": {},
   "source": [
    "**Kryptering**"
   ]
  },
  {
   "cell_type": "code",
   "execution_count": 7,
   "metadata": {},
   "outputs": [
    {
     "name": "stdout",
     "output_type": "stream",
     "text": [
      "r\n"
     ]
    }
   ],
   "source": [
    "k = 17\n",
    "kText = num_to_alphabet[k]\n",
    "print(kText)\n",
    "clearText = \"goddag\"\n",
    "clearText_num = []"
   ]
  },
  {
   "cell_type": "code",
   "execution_count": 8,
   "metadata": {},
   "outputs": [
    {
     "name": "stdout",
     "output_type": "stream",
     "text": [
      "[17, 14, 3, 3, 0, 6]\n",
      "[6, 14, 3, 3, 0, 6]\n"
     ]
    }
   ],
   "source": [
    "key = [k]\n",
    "\n",
    "for i in range(len(clearText)):\n",
    "    if i == 0:\n",
    "        clearText_num.append(alphabet_to_num[clearText[i]])\n",
    "        continue\n",
    "        \n",
    "    key.append(alphabet_to_num[clearText[i]])\n",
    "    clearText_num.append(alphabet_to_num[clearText[i]])\n",
    "    \n",
    "print(key)\n",
    "print(clearText_num)"
   ]
  },
  {
   "cell_type": "code",
   "execution_count": 9,
   "metadata": {},
   "outputs": [
    {
     "name": "stdout",
     "output_type": "stream",
     "text": [
      "[23, 28, 6, 6, 0, 12]\n"
     ]
    }
   ],
   "source": [
    "encrypted = []\n",
    "for x in range(len(clearText_num)):\n",
    "    encrypted_int = clearText_num[x] + key[x]\n",
    "    \n",
    "    if encrypted_int > 28:\n",
    "        encrypted_int -= 29\n",
    "    \n",
    "    encrypted.append(encrypted_int)\n",
    "\n",
    "print(encrypted)"
   ]
  },
  {
   "cell_type": "markdown",
   "metadata": {},
   "source": [
    "**Dekryptering**"
   ]
  },
  {
   "cell_type": "code",
   "execution_count": 10,
   "metadata": {},
   "outputs": [],
   "source": [
    "k = 5\n",
    "\n",
    "encrypted = [23 , 8, 23, 12, 21, 2, 4, 3, 17, 13, 19]"
   ]
  },
  {
   "cell_type": "code",
   "execution_count": 11,
   "metadata": {
    "scrolled": true
   },
   "outputs": [
    {
     "name": "stdout",
     "output_type": "stream",
     "text": [
      "steinsprang\n"
     ]
    }
   ],
   "source": [
    "decrypted = \"\"\n",
    "\n",
    "for x in range(len(encrypted)):\n",
    "    k = encrypted[x] - k\n",
    "    l = k\n",
    "    if k < 0:\n",
    "        k += 29\n",
    "    \n",
    "    decrypted += num_to_alphabet[k]\n",
    "    \n",
    "print(decrypted)"
   ]
  },
  {
   "cell_type": "markdown",
   "metadata": {},
   "source": [
    "### Oppgave 3"
   ]
  },
  {
   "cell_type": "markdown",
   "metadata": {},
   "source": [
    "Vi definerer en HMAC som følger:\n",
    "* *K* = 1001\n",
    "* *ipad* = 0011\n",
    "* *opad* = 0101\n",
    "* *h* er midtkvadratmetoden, dvs. vi regner x^2(mod 2^8)og henter de midterste fire sifrene (skriv ut tallet med 8 bits, med ledende nuller hvis dettrengs"
   ]
  },
  {
   "cell_type": "code",
   "execution_count": 12,
   "metadata": {},
   "outputs": [],
   "source": [
    "def H(x):\n",
    "    h = int(clearText, 2)\n",
    "    h = h ** 2\n",
    "    h = h % 256\n",
    "    h = bin(h).replace(\"0b\", \"\")\n",
    "    \n",
    "    print(h)"
   ]
  },
  {
   "cell_type": "code",
   "execution_count": 13,
   "metadata": {},
   "outputs": [
    {
     "name": "stdout",
     "output_type": "stream",
     "text": [
      "100100\n"
     ]
    }
   ],
   "source": [
    "clearText = \"0110\"\n",
    "\n",
    "H(clearText)"
   ]
  },
  {
   "cell_type": "markdown",
   "metadata": {},
   "source": [
    "### Oppgave 5"
   ]
  },
  {
   "cell_type": "markdown",
   "metadata": {},
   "source": [
    "En (dårlig) variant av AES er nesten som AES: Den har samme blokk-størrelse på 128 bits, samme nøkkellengde på 128 bits, og utfører følgendetre trinn som i AES\n",
    "* ADDROUNDKEY (original nøkkel)\n",
    "* SUBBYTES\n",
    "* SHIFTROWS\n",
    "NB! Første rundenøkkel er samme som original nøkkel. Ingen XOR på slutten. Bruk nøkkelen\n",
    "\n",
    "67 71 35 c4 ff da e5 ff 1c 54 e1 fd 7f 2e 88 b7"
   ]
  },
  {
   "cell_type": "markdown",
   "metadata": {},
   "source": [
    "**a)** Krypter meldingen\n",
    "\n",
    "24 59 66 0c 99 da 9b 00 d6 55 fd 20 e9 ff 46 95"
   ]
  },
  {
   "cell_type": "code",
   "execution_count": 14,
   "metadata": {},
   "outputs": [
    {
     "name": "stdout",
     "output_type": "stream",
     "text": [
      "['67', '71', '35', 'c4', 'ff', 'da', 'e5', 'ff', '1c', '54', 'e1', 'fd', '7f', '2e', '88', 'b7']\n",
      "['24', '59', '66', '0c', '99', 'da', '9b', '00', 'd6', '55', 'fd', '20', 'e9', 'ff', '46', '95']\n"
     ]
    }
   ],
   "source": [
    "import numpy as np\n",
    "\n",
    "clearTextArr = \"67 71 35 c4 ff da e5 ff 1c 54 e1 fd 7f 2e 88 b7\".split(\" \")\n",
    "keyArr = \"24 59 66 0c 99 da 9b 00 d6 55 fd 20 e9 ff 46 95\".split(\" \")\n",
    "encryptedArr = clearTextArr\n",
    "\n",
    "print(clearTextArr)\n",
    "print(keyArr)"
   ]
  },
  {
   "cell_type": "code",
   "execution_count": 15,
   "metadata": {},
   "outputs": [
    {
     "name": "stdout",
     "output_type": "stream",
     "text": [
      "0x43\n",
      "0x28\n",
      "0x53\n",
      "0xc8\n",
      "0x66\n",
      "0x0\n",
      "0x7e\n",
      "0xff\n",
      "0xca\n",
      "0x1\n",
      "0x1c\n",
      "0xdd\n",
      "0x96\n",
      "0xd1\n",
      "0xce\n",
      "0x22\n"
     ]
    }
   ],
   "source": [
    "# ADDROUNDKEY\n",
    "for i in range(len(clearTextArr)):\n",
    "    encryptedArr[i] = hex((int(clearTextArr[i], 16)) ^ (int(keyArr[i], 16)))\n",
    "    print(encryptedArr[i])"
   ]
  },
  {
   "cell_type": "code",
   "execution_count": 16,
   "metadata": {},
   "outputs": [],
   "source": [
    "# SUBBYTES\n",
    "sBox = (\n",
    "        '0x63', '0x7C', '0x77', '0x7B', '0xF2', '0x6B', '0x6F', '0xC5', '0x30', '0x01', '0x67', '0x2B', '0xFE', '0xD7', '0xAB', '0x76',\n",
    "        '0xCA', '0x82', '0xC9', '0x7D', '0xFA', '0x59', '0x47', '0xF0', '0xAD', '0xD4', '0xA2', '0xAF', '0x9C', '0xA4', '0x72', '0xC0',\n",
    "        '0xB7', '0xFD', '0x93', '0x26', '0x36', '0x3F', '0xF7', '0xCC', '0x34', '0xA5', '0xE5', '0xF1', '0x71', '0xD8', '0x31', '0x15',\n",
    "        '0x04', '0xC7', '0x23', '0xC3', '0x18', '0x96', '0x05', '0x9A', '0x07', '0x12', '0x80', '0xE2', '0xEB', '0x27', '0xB2', '0x75',\n",
    "        '0x09', '0x83', '0x2C', '0x1A', '0x1B', '0x6E', '0x5A', '0xA0', '0x52', '0x3B', '0xD6', '0xB3', '0x29', '0xE3', '0x2F', '0x84',\n",
    "        '0x53', '0xD1', '0x00', '0xED', '0x20', '0xFC', '0xB1', '0x5B', '0x6A', '0xCB', '0xBE', '0x39', '0x4A', '0x4C', '0x58', '0xCF',\n",
    "        '0xD0', '0xEF', '0xAA', '0xFB', '0x43', '0x4D', '0x33', '0x85', '0x45', '0xF9', '0x02', '0x7F', '0x50', '0x3C', '0x9F', '0xA8',\n",
    "        '0x51', '0xA3', '0x40', '0x8F', '0x92', '0x9D', '0x38', '0xF5', '0xBC', '0xB6', '0xDA', '0x21', '0x10', '0xFF', '0xF3', '0xD2',\n",
    "        '0xCD', '0x0C', '0x13', '0xEC', '0x5F', '0x97', '0x44', '0x17', '0xC4', '0xA7', '0x7E', '0x3D', '0x64', '0x5D', '0x19', '0x73',\n",
    "        '0x60', '0x81', '0x4F', '0xDC', '0x22', '0x2A', '0x90', '0x88', '0x46', '0xEE', '0xB8', '0x14', '0xDE', '0x5E', '0x0B', '0xDB',\n",
    "        '0xE0', '0x32', '0x3A', '0x0A', '0x49', '0x06', '0x24', '0x5C', '0xC2', '0xD3', '0xAC', '0x62', '0x91', '0x95', '0xE4', '0x79',\n",
    "        '0xE7', '0xC8', '0x37', '0x6D', '0x8D', '0xD5', '0x4E', '0xA9', '0x6C', '0x56', '0xF4', '0xEA', '0x65', '0x7A', '0xAE', '0x08',\n",
    "        '0xBA', '0x78', '0x25', '0x2E', '0x1C', '0xA6', '0xB4', '0xC6', '0xE8', '0xDD', '0x74', '0x1F', '0x4B', '0xBD', '0x8B', '0x8A',\n",
    "        '0x70', '0x3E', '0xB5', '0x66', '0x48', '0x03', '0xF6', '0x0E', '0x61', '0x35', '0x57', '0xB9', '0x86', '0xC1', '0x1D', '0x9E',\n",
    "        '0xE1', '0xF8', '0x98', '0x11', '0x69', '0xD9', '0x8E', '0x94', '0x9B', '0x1E', '0x87', '0xE9', '0xCE', '0x55', '0x28', '0xDF',\n",
    "        '0x8C', '0xA1', '0x89', '0x0D', '0xBF', '0xE6', '0x42', '0x68', '0x41', '0x99', '0x2D', '0x0F', '0xB0', '0x54', '0xBB', '0x16')"
   ]
  },
  {
   "cell_type": "code",
   "execution_count": 17,
   "metadata": {},
   "outputs": [
    {
     "name": "stdout",
     "output_type": "stream",
     "text": [
      "0x1A\n",
      "0x34\n",
      "0xED\n",
      "0xE8\n",
      "0x33\n",
      "0x63\n",
      "0xF3\n",
      "0x16\n",
      "0x74\n",
      "0x7C\n",
      "0x9C\n",
      "0xC1\n",
      "0x90\n",
      "0x3E\n",
      "0x8B\n",
      "0x93\n"
     ]
    }
   ],
   "source": [
    "for i in range(len(encryptedArr)):\n",
    "    encryptedArr[i] = sBox[int(encryptedArr[i], 16)]\n",
    "    print(encryptedArr[i])"
   ]
  },
  {
   "cell_type": "code",
   "execution_count": 18,
   "metadata": {},
   "outputs": [],
   "source": [
    "# SHIFTROWS\n",
    "# Manual shifting\n",
    "tempRow = ['0', '0', '0', '0']\n",
    "\n",
    "# 2nd row\n",
    "tempRow[0] = encryptedArr[1]\n",
    "tempRow[1] = encryptedArr[5]\n",
    "tempRow[2] = encryptedArr[9]\n",
    "tempRow[3] = encryptedArr[13]\n",
    "\n",
    "encryptedArr[1] = tempRow[1]\n",
    "encryptedArr[5] = tempRow[2]\n",
    "encryptedArr[9] = tempRow[3]\n",
    "encryptedArr[13] = tempRow[0]\n",
    "\n",
    "# 3nd row\n",
    "tempRow[0] = encryptedArr[2]\n",
    "tempRow[1] = encryptedArr[6]\n",
    "tempRow[2] = encryptedArr[10]\n",
    "tempRow[3] = encryptedArr[14]\n",
    "\n",
    "encryptedArr[2] = tempRow[2]\n",
    "encryptedArr[6] = tempRow[3]\n",
    "encryptedArr[10] = tempRow[0]\n",
    "encryptedArr[14] = tempRow[1]\n",
    "\n",
    "# 4nd row\n",
    "tempRow[0] = encryptedArr[3]\n",
    "tempRow[1] = encryptedArr[7]\n",
    "tempRow[2] = encryptedArr[11]\n",
    "tempRow[3] = encryptedArr[15]\n",
    "\n",
    "encryptedArr[3] = tempRow[3]\n",
    "encryptedArr[7] = tempRow[0]\n",
    "encryptedArr[11] = tempRow[1]\n",
    "encryptedArr[15] = tempRow[2]\n",
    "\n"
   ]
  },
  {
   "cell_type": "code",
   "execution_count": 19,
   "metadata": {},
   "outputs": [
    {
     "name": "stdout",
     "output_type": "stream",
     "text": [
      "Final encryption:\n",
      "1A\n",
      "63\n",
      "9C\n",
      "93\n",
      "33\n",
      "7C\n",
      "8B\n",
      "E8\n",
      "74\n",
      "3E\n",
      "ED\n",
      "16\n",
      "90\n",
      "34\n",
      "F3\n",
      "C1\n"
     ]
    }
   ],
   "source": [
    "print(\"Final encryption:\")\n",
    "\n",
    "for i in range (len(encryptedArr)):\n",
    "    print(encryptedArr[i].replace(\"0x\", \"\"))"
   ]
  },
  {
   "cell_type": "markdown",
   "metadata": {},
   "source": [
    "**b)** Dekrypter meldingen\n",
    "\n",
    "26 FA 83 E7 2D CD 5D B8 C4 DC EB 12 70 CF D6 1E\n"
   ]
  },
  {
   "cell_type": "code",
   "execution_count": 20,
   "metadata": {},
   "outputs": [
    {
     "name": "stdout",
     "output_type": "stream",
     "text": [
      "['26', 'fa', '83', 'e7', '2d', 'cd', '5d', 'b8', 'c4', 'dc', 'eb', '12', '70', 'cf', 'd6', '1e']\n",
      "['67', '71', '35', 'c4', 'ff', 'da', 'e5', 'ff', '1c', '54', 'e1', 'fd', '7f', '2e', '88', 'b7']\n"
     ]
    }
   ],
   "source": [
    "encryptedArr = \"26 fa 83 e7 2d cd 5d b8 c4 dc eb 12 70 cf d6 1e\".split(\" \")\n",
    "keyArr = \"67 71 35 c4 ff da e5 ff 1c 54 e1 fd 7f 2e 88 b7\".split(\" \")\n",
    "\n",
    "print(encryptedArr)\n",
    "print(keyArr)"
   ]
  },
  {
   "cell_type": "code",
   "execution_count": 21,
   "metadata": {},
   "outputs": [],
   "source": [
    "# SHIFTROWS\n",
    "# Manual shifting\n",
    "tempRow = ['0', '0', '0', '0']\n",
    "\n",
    "# 2nd row\n",
    "tempRow[0] = encryptedArr[1]\n",
    "tempRow[1] = encryptedArr[5]\n",
    "tempRow[2] = encryptedArr[9]\n",
    "tempRow[3] = encryptedArr[13]\n",
    "\n",
    "encryptedArr[1] = tempRow[3]\n",
    "encryptedArr[5] = tempRow[0]\n",
    "encryptedArr[9] = tempRow[1]\n",
    "encryptedArr[13] = tempRow[2]\n",
    "\n",
    "# 3nd row\n",
    "tempRow[0] = encryptedArr[2]\n",
    "tempRow[1] = encryptedArr[6]\n",
    "tempRow[2] = encryptedArr[10]\n",
    "tempRow[3] = encryptedArr[14]\n",
    "\n",
    "encryptedArr[2] = tempRow[2]\n",
    "encryptedArr[6] = tempRow[3]\n",
    "encryptedArr[10] = tempRow[0]\n",
    "encryptedArr[14] = tempRow[1]\n",
    "\n",
    "# 4nd row\n",
    "tempRow[0] = encryptedArr[3]\n",
    "tempRow[1] = encryptedArr[7]\n",
    "tempRow[2] = encryptedArr[11]\n",
    "tempRow[3] = encryptedArr[15]\n",
    "\n",
    "encryptedArr[3] = tempRow[1]\n",
    "encryptedArr[7] = tempRow[2]\n",
    "encryptedArr[11] = tempRow[3]\n",
    "encryptedArr[15] = tempRow[0]"
   ]
  },
  {
   "cell_type": "code",
   "execution_count": 22,
   "metadata": {},
   "outputs": [
    {
     "name": "stdout",
     "output_type": "stream",
     "text": [
      "26\n",
      "cf\n",
      "eb\n",
      "b8\n",
      "2d\n",
      "fa\n",
      "d6\n",
      "12\n",
      "c4\n",
      "cd\n",
      "83\n",
      "1e\n",
      "70\n",
      "dc\n",
      "5d\n",
      "e7\n"
     ]
    }
   ],
   "source": [
    "for i in range (len(encryptedArr)):\n",
    "    print(encryptedArr[i])"
   ]
  },
  {
   "cell_type": "code",
   "execution_count": 23,
   "metadata": {},
   "outputs": [],
   "source": [
    "# INVERSE SUBBYTES\n",
    "\n",
    "sBox_inv = (\n",
    "        '0x52', '0x09', '0x6A', '0xD5', '0x30', '0x36', '0xA5', '0x38', '0xBF', '0x40', '0xA3', '0x9E', '0x81', '0xF3', '0xD7', '0xFB',\n",
    "        '0x7C', '0xE3', '0x39', '0x82', '0x9B', '0x2F', '0xFF', '0x87', '0x34', '0x8E', '0x43', '0x44', '0xC4', '0xDE', '0xE9', '0xCB',\n",
    "        '0x54', '0x7B', '0x94', '0x32', '0xA6', '0xC2', '0x23', '0x3D', '0xEE', '0x4C', '0x95', '0x0B', '0x42', '0xFA', '0xC3', '0x4E',\n",
    "        '0x08', '0x2E', '0xA1', '0x66', '0x28', '0xD9', '0x24', '0xB2', '0x76', '0x5B', '0xA2', '0x49', '0x6D', '0x8B', '0xD1', '0x25',\n",
    "        '0x72', '0xF8', '0xF6', '0x64', '0x86', '0x68', '0x98', '0x16', '0xD4', '0xA4', '0x5C', '0xCC', '0x5D', '0x65', '0xB6', '0x92',\n",
    "        '0x6C', '0x70', '0x48', '0x50', '0xFD', '0xED', '0xB9', '0xDA', '0x5E', '0x15', '0x46', '0x57', '0xA7', '0x8D', '0x9D', '0x84',\n",
    "        '0x90', '0xD8', '0xAB', '0x00', '0x8C', '0xBC', '0xD3', '0x0A', '0xF7', '0xE4', '0x58', '0x05', '0xB8', '0xB3', '0x45', '0x06',\n",
    "        '0xD0', '0x2C', '0x1E', '0x8F', '0xCA', '0x3F', '0x0F', '0x02', '0xC1', '0xAF', '0xBD', '0x03', '0x01', '0x13', '0x8A', '0x6B',\n",
    "        '0x3A', '0x91', '0x11', '0x41', '0x4F', '0x67', '0xDC', '0xEA', '0x97', '0xF2', '0xCF', '0xCE', '0xF0', '0xB4', '0xE6', '0x73',\n",
    "        '0x96', '0xAC', '0x74', '0x22', '0xE7', '0xAD', '0x35', '0x85', '0xE2', '0xF9', '0x37', '0xE8', '0x1C', '0x75', '0xDF', '0x6E',\n",
    "        '0x47', '0xF1', '0x1A', '0x71', '0x1D', '0x29', '0xC5', '0x89', '0x6F', '0xB7', '0x62', '0x0E', '0xAA', '0x18', '0xBE', '0x1B',\n",
    "        '0xFC', '0x56', '0x3E', '0x4B', '0xC6', '0xD2', '0x79', '0x20', '0x9A', '0xDB', '0xC0', '0xFE', '0x78', '0xCD', '0x5A', '0xF4',\n",
    "        '0x1F', '0xDD', '0xA8', '0x33', '0x88', '0x07', '0xC7', '0x31', '0xB1', '0x12', '0x10', '0x59', '0x27', '0x80', '0xEC', '0x5F',\n",
    "        '0x60', '0x51', '0x7F', '0xA9', '0x19', '0xB5', '0x4A', '0x0D', '0x2D', '0xE5', '0x7A', '0x9F', '0x93', '0xC9', '0x9C', '0xEF',\n",
    "        '0xA0', '0xE0', '0x3B', '0x4D', '0xAE', '0x2A', '0xF5', '0xB0', '0xC8', '0xEB', '0xBB', '0x3C', '0x83', '0x53', '0x99', '0x61',\n",
    "        '0x17', '0x2B', '0x04', '0x7E', '0xBA', '0x77', '0xD6', '0x26', '0xE1', '0x69', '0x14', '0x63', '0x55', '0x21', '0x0C', '0x7D')"
   ]
  },
  {
   "cell_type": "code",
   "execution_count": 24,
   "metadata": {},
   "outputs": [
    {
     "name": "stdout",
     "output_type": "stream",
     "text": [
      "0x23\n",
      "0x5F\n",
      "0x3C\n",
      "0x9A\n",
      "0xFA\n",
      "0x14\n",
      "0x4A\n",
      "0x39\n",
      "0x88\n",
      "0x80\n",
      "0x41\n",
      "0xE9\n",
      "0xD0\n",
      "0x93\n",
      "0x8D\n",
      "0xB0\n"
     ]
    }
   ],
   "source": [
    "for i in range(len(encryptedArr)):\n",
    "    encryptedArr[i] = sBox_inv[int(encryptedArr[i], 16)]\n",
    "    print(encryptedArr[i])"
   ]
  },
  {
   "cell_type": "code",
   "execution_count": 25,
   "metadata": {},
   "outputs": [],
   "source": [
    "# ADDROUNDKEY\n",
    "clearTextArr = encryptedArr\n",
    "\n",
    "for i in range(len(encryptedArr)):\n",
    "    clearTextArr[i] = hex((int(encryptedArr[i], 16)) ^ (int(keyArr[i], 16)))"
   ]
  },
  {
   "cell_type": "code",
   "execution_count": 26,
   "metadata": {},
   "outputs": [
    {
     "name": "stdout",
     "output_type": "stream",
     "text": [
      "Final decrypt\n",
      "0x44\n",
      "0x2e\n",
      "0x9\n",
      "0x5e\n",
      "0x5\n",
      "0xce\n",
      "0xaf\n",
      "0xc6\n",
      "0x94\n",
      "0xd4\n",
      "0xa0\n",
      "0x14\n",
      "0xaf\n",
      "0xbd\n",
      "0x5\n",
      "0x7\n"
     ]
    }
   ],
   "source": [
    "print(\"Final decrypt\")\n",
    "\n",
    "for i in range(len(clearTextArr)):\n",
    "    print(clearTextArr[i])"
   ]
  },
  {
   "cell_type": "markdown",
   "metadata": {},
   "source": [
    "### Oppgave 6"
   ]
  },
  {
   "cell_type": "markdown",
   "metadata": {},
   "source": [
    "Gitt følgende 128-bits AES-nøkkel, i heksadesimal notasjon,\n",
    "\n",
    "2B7E151628AED2A6ABF7158809CF4F3C\n",
    "\n",
    "Kjør KEYEXPANSION, begrenset som følger:\n",
    "\n",
    "* Bare de første 6 ordene, w[0], ..., w[5]\n",
    "* Ikke bruk SUBWORD.\n",
    "\n",
    "Algoritmen jobber med 32-bits ord, og hver heksadesimale tegn er 4 bits.\n"
   ]
  },
  {
   "cell_type": "code",
   "execution_count": 64,
   "metadata": {},
   "outputs": [],
   "source": [
    "Rcon = ('0x01', '0x02', '0x04', '0x04', '0x08', '0x10', '0x20', '0x40', '0x80', '0x1b', '0x36')\n",
    "\n",
    "key = ('0x2b', '0x7e', '0x15', '0x16', '0x28', '0xae', '0xd2', '0xa6', '0xab', '0xf7', '0x15', '0x88', '0x09', '0xcf', '0x4f', '0x3c')"
   ]
  },
  {
   "cell_type": "code",
   "execution_count": 65,
   "metadata": {},
   "outputs": [
    {
     "name": "stdout",
     "output_type": "stream",
     "text": [
      "0xa0\n",
      "0xfa\n",
      "0xfe\n",
      "0x17\n"
     ]
    }
   ],
   "source": [
    "# W0 (med sBox og Rcon)\n",
    "\n",
    "w0 = [key[13], key[14], key[15], key[12]]\n",
    "\n",
    "w0_Rcon = [Rcon[0], '0x00', '0x00', '0x00']\n",
    "\n",
    "for i in range(len(w0)):\n",
    "    w0[i] = int(key[i], 16) ^ int(sBox[int(w0[i], 16)], 16) ^ int(w0_Rcon[i], 16)\n",
    "    print(hex(w0[i]))\n",
    "    "
   ]
  },
  {
   "cell_type": "code",
   "execution_count": 66,
   "metadata": {},
   "outputs": [
    {
     "name": "stdout",
     "output_type": "stream",
     "text": [
      "0x88\n",
      "0x54\n",
      "0x2c\n",
      "0xb1\n"
     ]
    }
   ],
   "source": [
    "# W1\n",
    "\n",
    "w1 = [key[4], key[5], key[6], key[7]]\n",
    "\n",
    "for i in range(len(w1)):\n",
    "    w1[i] = int(w1[i], 16) ^ w0[i]\n",
    "    print(hex(w1[i]))\n",
    "    "
   ]
  },
  {
   "cell_type": "code",
   "execution_count": 67,
   "metadata": {},
   "outputs": [
    {
     "name": "stdout",
     "output_type": "stream",
     "text": [
      "0x23\n",
      "0xa3\n",
      "0x39\n",
      "0x39\n"
     ]
    }
   ],
   "source": [
    "# W2\n",
    "\n",
    "w2 = [key[8], key[9], key[10], key[11]]\n",
    "\n",
    "for i in range(len(w2)):\n",
    "    w2[i] = int(w2[i], 16) ^ w1[i]\n",
    "    print(hex(w2[i]))\n",
    "    "
   ]
  },
  {
   "cell_type": "code",
   "execution_count": 68,
   "metadata": {},
   "outputs": [
    {
     "name": "stdout",
     "output_type": "stream",
     "text": [
      "0x2a\n",
      "0x6c\n",
      "0x76\n",
      "0x5\n"
     ]
    }
   ],
   "source": [
    "# W3\n",
    "\n",
    "w3 = [key[12], key[13], key[14], key[15]]\n",
    "\n",
    "for i in range(len(w3)):\n",
    "    w3[i] = int(w3[i], 16) ^ w2[i]\n",
    "    print(hex(w3[i]))\n",
    "    "
   ]
  },
  {
   "cell_type": "code",
   "execution_count": 83,
   "metadata": {},
   "outputs": [
    {
     "name": "stdout",
     "output_type": "stream",
     "text": [
      "0xf2\n",
      "0xc2\n",
      "0x95\n",
      "0xf2\n"
     ]
    }
   ],
   "source": [
    "# W4 (med sBox og Rcon)\n",
    "\n",
    "w4 = [w3[1], w3[2], w3[3], w3[0]]\n",
    "\n",
    "w4_Rcon = [Rcon[1], '0x00', '0x00', '0x00']\n",
    "\n",
    "for i in range(len(w4)):\n",
    "    w4[i] = int(hex(w0[i]).replace(\"0x\", \"\"), 16)^ int(sBox[int(hex(w4[i]).replace(\"0x\", \"\"), 16)], 16) ^ int(w4_Rcon[i], 16) # UGLY\n",
    "    print(hex(w4[i]))"
   ]
  },
  {
   "cell_type": "code",
   "execution_count": 86,
   "metadata": {},
   "outputs": [
    {
     "name": "stdout",
     "output_type": "stream",
     "text": [
      "0x7a\n",
      "0x96\n",
      "0xb9\n",
      "0x43\n"
     ]
    }
   ],
   "source": [
    "# W5\n",
    "\n",
    "w5 = [w1[0], w1[1], w1[2], w1[3]]\n",
    "\n",
    "for i in range(len(w3)):\n",
    "    w5[i] = int(hex(w5[i]).replace(\"0x\", \"\"), 16) ^ w4[i]\n",
    "    print(hex(w5[i]))"
   ]
  },
  {
   "cell_type": "code",
   "execution_count": null,
   "metadata": {},
   "outputs": [],
   "source": []
  }
 ],
 "metadata": {
  "kernelspec": {
   "display_name": "Python 3",
   "language": "python",
   "name": "python3"
  },
  "language_info": {
   "codemirror_mode": {
    "name": "ipython",
    "version": 3
   },
   "file_extension": ".py",
   "mimetype": "text/x-python",
   "name": "python",
   "nbconvert_exporter": "python",
   "pygments_lexer": "ipython3",
   "version": "3.7.4"
  }
 },
 "nbformat": 4,
 "nbformat_minor": 4
}
