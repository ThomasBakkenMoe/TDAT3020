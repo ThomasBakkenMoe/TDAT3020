{
 "cells": [
  {
   "cell_type": "markdown",
   "metadata": {},
   "source": [
    "# Øving 16K\n",
    "### Crypto 2"
   ]
  },
  {
   "cell_type": "markdown",
   "metadata": {},
   "source": [
    "### Oppgave 1"
   ]
  },
  {
   "cell_type": "markdown",
   "metadata": {},
   "source": [
    "**a)** Gitt følgende rekursive føge/LFSR:\n",
    "\n",
    "z_i+4 = z_i + z_i+1 + z_i+2 + z_i+3 (mod 2)"
   ]
  },
  {
   "cell_type": "markdown",
   "metadata": {},
   "source": [
    "**K = 1000**110001100011000\n",
    "\n",
    "**K = 0011**000110001100011\n",
    "\n",
    "**K = 1111**011110111101111"
   ]
  },
  {
   "cell_type": "markdown",
   "metadata": {},
   "source": [
    "**b)** Gjør det samme for følgende LFSR:\n",
    "\n",
    "z_i+4 = z_i + z_i+3 (mod 2)"
   ]
  },
  {
   "cell_type": "markdown",
   "metadata": {},
   "source": [
    "**K = 1000**111101011001000\n",
    "\n",
    "**K = 0011**110101100100011\n",
    "\n",
    "**K = 1111**010110010001111"
   ]
  },
  {
   "cell_type": "markdown",
   "metadata": {},
   "source": [
    "### Oppgave 2"
   ]
  },
  {
   "cell_type": "markdown",
   "metadata": {},
   "source": [
    "Bruk Autokey-chifret, med P = C = Z_29\n",
    "\n",
    "* La *k* = 17 og krypter teksten *goddag*\n",
    "* Gitt *k* = 5, dekrypter 23 08 23 12 21 02 04 03 17 13 19."
   ]
  },
  {
   "cell_type": "code",
   "execution_count": 6,
   "metadata": {},
   "outputs": [],
   "source": [
    "alphabet_to_num = {\n",
    "    \"a\" : 0,\n",
    "    \"b\" : 1,\n",
    "    \"c\" : 2,\n",
    "    \"d\" : 3,\n",
    "    \"e\" : 4,\n",
    "    \"f\" : 5,\n",
    "    \"g\" : 6,\n",
    "    \"h\" : 7,\n",
    "    \"i\" : 8,\n",
    "    \"j\" : 9,\n",
    "    \"k\" : 10,\n",
    "    \"l\" : 11,\n",
    "    \"m\" : 12,\n",
    "    \"n\" : 13,\n",
    "    \"o\" : 14,\n",
    "    \"p\" : 15,\n",
    "    \"q\" : 16,\n",
    "    \"r\" : 17,\n",
    "    \"s\" : 18,\n",
    "    \"t\" : 19,\n",
    "    \"u\" : 20,\n",
    "    \"v\" : 21,\n",
    "    \"w\" : 22,\n",
    "    \"x\" : 23,\n",
    "    \"y\" : 24,\n",
    "    \"z\" : 25,\n",
    "    \"æ\" : 26,\n",
    "    \"ø\" : 27,\n",
    "    \"å\" : 28\n",
    "}"
   ]
  },
  {
   "cell_type": "code",
   "execution_count": 8,
   "metadata": {},
   "outputs": [],
   "source": [
    "num_to_alphabet = {\n",
    "    0 : \"a\",\n",
    "    1 : \"b\",\n",
    "    2 : \"c\",\n",
    "    3 : \"d\",\n",
    "    4 : \"e\",\n",
    "    5 : \"f\",\n",
    "    6 : \"g\",\n",
    "    7 : \"h\",\n",
    "    8 : \"i\",\n",
    "    9 : \"j\",\n",
    "    10 : \"k\",\n",
    "    11 : \"l\",\n",
    "    12 : \"m\",\n",
    "    13 : \"n\",\n",
    "    14 : \"o\",\n",
    "    15 : \"p\",\n",
    "    16 : \"q\",\n",
    "    17 : \"r\",\n",
    "    18 : \"s\",\n",
    "    19 : \"t\",\n",
    "    20 : \"u\",\n",
    "    21 : \"v\",\n",
    "    22 : \"w\",\n",
    "    23 : \"x\",\n",
    "    24 : \"y\",\n",
    "    25 : \"z\",\n",
    "    26 : \"æ\",\n",
    "    27 : \"ø\",\n",
    "    28 : \"å\"\n",
    "}"
   ]
  },
  {
   "cell_type": "markdown",
   "metadata": {},
   "source": [
    "**Kryptering**"
   ]
  },
  {
   "cell_type": "code",
   "execution_count": 19,
   "metadata": {},
   "outputs": [
    {
     "name": "stdout",
     "output_type": "stream",
     "text": [
      "r\n"
     ]
    }
   ],
   "source": [
    "k = 17\n",
    "kText = num_to_alphabet[k]\n",
    "print(kText)\n",
    "clearText = \"goddag\"\n",
    "clearText_num = []"
   ]
  },
  {
   "cell_type": "code",
   "execution_count": 22,
   "metadata": {},
   "outputs": [
    {
     "name": "stdout",
     "output_type": "stream",
     "text": [
      "[17, 14, 3, 3, 0, 6]\n",
      "[6, 14, 3, 3, 0, 6]\n"
     ]
    }
   ],
   "source": [
    "key = [k]\n",
    "\n",
    "for i in range(len(clearText)):\n",
    "    if i == 0:\n",
    "        clearText_num.append(alphabet_to_num[clearText[i]])\n",
    "        continue\n",
    "        \n",
    "    key.append(alphabet_to_num[clearText[i]])\n",
    "    clearText_num.append(alphabet_to_num[clearText[i]])\n",
    "    \n",
    "print(key)\n",
    "print(clearText_num)"
   ]
  },
  {
   "cell_type": "code",
   "execution_count": 25,
   "metadata": {},
   "outputs": [
    {
     "name": "stdout",
     "output_type": "stream",
     "text": [
      "[23, 28, 6, 6, 0, 12]\n"
     ]
    }
   ],
   "source": [
    "encrypted = []\n",
    "for x in range(len(clearText_num)):\n",
    "    encrypted_int = clearText_num[x] + key[x]\n",
    "    \n",
    "    if encrypted_int > 28:\n",
    "        encrypted_int -= 29\n",
    "    \n",
    "    encrypted.append(encrypted_int)\n",
    "\n",
    "print(encrypted)"
   ]
  },
  {
   "cell_type": "markdown",
   "metadata": {},
   "source": [
    "**Dekryptering**"
   ]
  },
  {
   "cell_type": "code",
   "execution_count": 31,
   "metadata": {},
   "outputs": [],
   "source": [
    "k = 5\n",
    "\n",
    "encrypted = [23 , 8, 23, 12, 21, 2, 4, 3, 17, 13, 19]"
   ]
  },
  {
   "cell_type": "code",
   "execution_count": 32,
   "metadata": {
    "scrolled": true
   },
   "outputs": [
    {
     "name": "stdout",
     "output_type": "stream",
     "text": [
      "steinsprang\n"
     ]
    }
   ],
   "source": [
    "decrypted = \"\"\n",
    "\n",
    "for x in range(len(encrypted)):\n",
    "    k = encrypted[x] - k\n",
    "    l = k\n",
    "    if k < 0:\n",
    "        k += 29\n",
    "    \n",
    "    decrypted += num_to_alphabet[k]\n",
    "    \n",
    "print(decrypted)"
   ]
  },
  {
   "cell_type": "markdown",
   "metadata": {},
   "source": [
    "### Oppgave 3"
   ]
  },
  {
   "cell_type": "markdown",
   "metadata": {},
   "source": [
    "Vi definerer en HMAC som følger:\n",
    "* *K* = 1001\n",
    "* *ipad* = 0011\n",
    "* *opad* = 0101\n",
    "* *h* er midtkvadratmetoden, dvs. vi regner x^2(mod 2^8)og henter de midterste fire sifrene (skriv ut tallet med 8 bits, med ledende nuller hvis dettrengs"
   ]
  },
  {
   "cell_type": "code",
   "execution_count": null,
   "metadata": {},
   "outputs": [],
   "source": []
  }
 ],
 "metadata": {
  "kernelspec": {
   "display_name": "Python 3",
   "language": "python",
   "name": "python3"
  },
  "language_info": {
   "codemirror_mode": {
    "name": "ipython",
    "version": 3
   },
   "file_extension": ".py",
   "mimetype": "text/x-python",
   "name": "python",
   "nbconvert_exporter": "python",
   "pygments_lexer": "ipython3",
   "version": "3.8.5"
  }
 },
 "nbformat": 4,
 "nbformat_minor": 4
}
